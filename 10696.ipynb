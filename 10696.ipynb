{
 "cells": [
  {
   "cell_type": "markdown",
   "metadata": {},
   "source": [
    "### Q10696: f91\n",
    "McCarthy是一個有名的資訊專家。他定義了一個遞迴的函數叫做 f91 。它輸入一個正整數N並且依據以下的規則傳回一個正整數：\n",
    "\n",
    ". 如果 N <= 100, 那麼 f91(N) = f91( f91( N+11) )\n",
    "\n",
    ". 如果 N >= 101, 那麼 f91(N) = N-10\n",
    "\n",
    "請你寫一個程式來計算 f91\n",
    "\n",
    "Input\n",
    "\n",
    "每組測試資料一列。含有1個正整數 N（ N <= 1000000）。輸入最多有250000組測試資料。\n",
    "\n",
    "若 N=0 代表輸入結束。\n",
    "\n",
    "Output\n",
    "\n",
    "對每組測試資料輸出一列 f91(N)，。輸出格式請參考Sample Output。"
   ]
  },
  {
   "cell_type": "code",
   "execution_count": 2,
   "metadata": {},
   "outputs": [
    {
     "name": "stdout",
     "output_type": "stream",
     "text": [
      "500\n",
      "f91(500)=490\n",
      "91\n",
      "f91(91)=91\n",
      "0\n"
     ]
    }
   ],
   "source": [
    "def f91(x):\n",
    "    if 0<x<=100:\n",
    "        y=f91(f91(x+11))\n",
    "        return y\n",
    "    else:\n",
    "        return x-10\n",
    "\n",
    "inpt =int(input())\n",
    "while True:\n",
    "    if inpt==0:\n",
    "        break\n",
    "    else:\n",
    "        print(f\"f91({inpt})={f91(inpt)}\")\n",
    "    inpt =int(input())\n"
   ]
  },
  {
   "cell_type": "code",
   "execution_count": null,
   "metadata": {},
   "outputs": [],
   "source": []
  }
 ],
 "metadata": {
  "kernelspec": {
   "display_name": "Python 3",
   "language": "python",
   "name": "python3"
  },
  "language_info": {
   "codemirror_mode": {
    "name": "ipython",
    "version": 3
   },
   "file_extension": ".py",
   "mimetype": "text/x-python",
   "name": "python",
   "nbconvert_exporter": "python",
   "pygments_lexer": "ipython3",
   "version": "3.7.3"
  }
 },
 "nbformat": 4,
 "nbformat_minor": 2
}
