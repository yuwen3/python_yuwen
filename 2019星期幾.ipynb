{
 "cells": [
  {
   "cell_type": "markdown",
   "metadata": {},
   "source": [
    "## 查詢2019年哪一天是星期幾"
   ]
  },
  {
   "cell_type": "code",
   "execution_count": 1,
   "metadata": {},
   "outputs": [
    {
     "name": "stdout",
     "output_type": "stream",
     "text": [
      "輸入你想要查詢的月份:8\n",
      "輸入你想要查詢的日期：1\n",
      "星期四\n"
     ]
    }
   ],
   "source": [
    "month =int(input(\"輸入你想要查詢的月份:\"))\n",
    "date = int(input(\"輸入你想要查詢的日期：\"))\n",
    "week={1:\"星期一\",2:\"星期二\",3:\"星期三\",4:\"星期四\",5:\"星期五\",6:\"星期六\",0:\"星期日\"}\n",
    "\n",
    "if month<=2:\n",
    "    if month%2==1:\n",
    "        b=(date+1)%7\n",
    "        print(week[b])\n",
    "    else:\n",
    "        b=(date+4)%7                                                        \n",
    "        print(week[b])\n",
    "if 2<month<=7:\n",
    "    if month%2==1:\n",
    "        b=(31+28+((month-3)/2)*31+((month-3)/2)*30+date+1)%7\n",
    "        print(week[b])\n",
    "    else:\n",
    "        b=(31+28+((month-2)/2)*31+((month-4)/2)*30+date+1)%7\n",
    "        print(week[b])\n",
    "if month>=8:\n",
    "    if month%2==0:\n",
    "        b=(31+28+31*3+30*2+((month-8)/2)*31+((month-8)/2)*30+date+1)%7\n",
    "        print(week[b])\n",
    "    else:\n",
    "        b=(31+28+31*3+30*2+((month-9)/2)*31+((month-7)/2)*30+date+2)%7\n",
    "        print(week[b])"
   ]
  },
  {
   "cell_type": "code",
   "execution_count": null,
   "metadata": {},
   "outputs": [],
   "source": []
  }
 ],
 "metadata": {
  "kernelspec": {
   "display_name": "Python 3",
   "language": "python",
   "name": "python3"
  },
  "language_info": {
   "codemirror_mode": {
    "name": "ipython",
    "version": 3
   },
   "file_extension": ".py",
   "mimetype": "text/x-python",
   "name": "python",
   "nbconvert_exporter": "python",
   "pygments_lexer": "ipython3",
   "version": "3.7.3"
  }
 },
 "nbformat": 4,
 "nbformat_minor": 2
}
