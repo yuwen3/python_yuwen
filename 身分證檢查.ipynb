{
 "cells": [
  {
   "cell_type": "code",
   "execution_count": 1,
   "metadata": {},
   "outputs": [
    {
     "name": "stdout",
     "output_type": "stream",
     "text": [
      "請輸入欲檢查的身分證字號:A123456789\n",
      "台北市\n",
      "性別：男生\n",
      "這是正確的身分證字號格式\n"
     ]
    }
   ],
   "source": [
    "id_ =input(\"請輸入欲檢查的身分證字號:\")\n",
    "add ={'A':'台北市','B':'台中市','C':'基隆市','D':'台南市','E':'高雄市','F':'台北縣','G':'宜蘭縣','H':'桃園縣','I':'嘉義市','J':'新竹縣','K':'苗栗縣','L':'台中縣','M':'南投縣','N':'彰化縣','O':'新竹市','P':'雲林縣','Q':'嘉義縣','R':'台南縣','S':'高雄縣','T':'屏東縣','U':'花蓮縣','V':'台東縣','W':'金門縣','X':'澎湖縣','Y':'陽明山','Z':'連江縣'}\n",
    "addnum ={'A':10,'B':11,'C':12,'D':13,'E':14,'F':15,'G':16,'H':17,'I':34,'J':18,'K':19,'L':20,'M':21,'N':22,'O':35,'P':23,'Q':24,'R':25,'S':26,'T':27,'U':28,'V':29,'W':32,'X':30,'Y':31,'Z':33}\n",
    "\n",
    "if len(id_)==10:\n",
    "    if id_[0] in list(add):\n",
    "        print(add[id_[0]])\n",
    "        if id_[1]==\"1\":\n",
    "            print(\"性別：男生\")\n",
    "            sumn=0\n",
    "            for i in range(1,9):\n",
    "                sumn=sumn+int(id_[i])*(9-i)\n",
    "            if (10-(((addnum[id_[0]]%10)*9+(addnum[id_[0]]//10)+sumn)%10)==10) and (int(id_[9])==0):\n",
    "                print(\"這是正確的身分證字號格式\")\n",
    "            elif 10-(((addnum[id_[0]]%10)*9+(addnum[id_[0]]//10)+sumn)%10)==int(id_[9]):\n",
    "                print(\"這是正確的身分證字號格式\")\n",
    "            else:\n",
    "                print(\"您輸入的格式有誤\")\n",
    "        elif id_[1]==\"2\":\n",
    "            print(\"性別：女生\")\n",
    "            sumn=0\n",
    "            for i in range(1,9):\n",
    "                sumn=sumn+int(id_[i])*(9-i)\n",
    "            if (10-(((addnum[id_[0]]%10)*9+(addnum[id_[0]]//10)+sumn)%10)==10) and (int(id_[9])==0):\n",
    "                print(\"這是正確的身分證字號格式\")\n",
    "            elif 10-(((addnum[id_[0]]%10)*9+(addnum[id_[0]]//10)+sumn)%10)==int(id_[9]):\n",
    "                print(\"這是正確的身分證字號格式\")\n",
    "            else:\n",
    "                print(\"您輸入的格式有誤\")\n",
    "        else:\n",
    "            print(\"您輸入的格式有誤\")\n",
    "    else:\n",
    "        print(\"您輸入的格式有誤\")\n",
    "else:\n",
    "    print(\"您輸入的格式有誤\")\n"
   ]
  },
  {
   "cell_type": "code",
   "execution_count": null,
   "metadata": {},
   "outputs": [],
   "source": []
  }
 ],
 "metadata": {
  "kernelspec": {
   "display_name": "Python 3",
   "language": "python",
   "name": "python3"
  },
  "language_info": {
   "codemirror_mode": {
    "name": "ipython",
    "version": 3
   },
   "file_extension": ".py",
   "mimetype": "text/x-python",
   "name": "python",
   "nbconvert_exporter": "python",
   "pygments_lexer": "ipython3",
   "version": "3.7.3"
  }
 },
 "nbformat": 4,
 "nbformat_minor": 2
}
