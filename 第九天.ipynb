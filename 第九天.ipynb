{
 "cells": [
  {
   "cell_type": "code",
   "execution_count": 1,
   "metadata": {},
   "outputs": [
    {
     "name": "stdout",
     "output_type": "stream",
     "text": [
      "45\n"
     ]
    }
   ],
   "source": [
    "j=0\n",
    "for i in range(10):\n",
    "    j=j+i\n",
    "print(j)"
   ]
  },
  {
   "cell_type": "code",
   "execution_count": 2,
   "metadata": {},
   "outputs": [],
   "source": [
    "T={1:[],2:[6,7],3:[1,4],4:[],5:[3,2],6:[],7:[]}"
   ]
  },
  {
   "cell_type": "code",
   "execution_count": 3,
   "metadata": {},
   "outputs": [
    {
     "data": {
      "text/plain": [
       "[6, 7]"
      ]
     },
     "execution_count": 3,
     "metadata": {},
     "output_type": "execute_result"
    }
   ],
   "source": [
    "T[2]"
   ]
  },
  {
   "cell_type": "code",
   "execution_count": 4,
   "metadata": {},
   "outputs": [
    {
     "name": "stdout",
     "output_type": "stream",
     "text": [
      "7\n",
      "0\n",
      "2 6 7\n",
      "2 1 4\n",
      "0\n",
      "2 3 2\n",
      "0\n",
      "0\n",
      "5\n",
      "4\n"
     ]
    }
   ],
   "source": [
    "n = int(input())\n",
    "T={}\n",
    "root =list(range(1,n+1))\n",
    "\n",
    "for i in range(1,n+1):\n",
    "    line = input().split()\n",
    "    n_line =list(map (int,line))[1:]\n",
    "    T[i] =n_line\n",
    "    for k in n_line:\n",
    "        root.remove(k)\n",
    "\n",
    "\n",
    "def h(v):\n",
    "    c_nodes =T[v]\n",
    "    if c_nodes ==[]:\n",
    "        return 0\n",
    "    return max(map(h,c_nodes))+1    #也可以加else\n",
    "print(root[0])\n",
    "print(sum(map(h,range(1,n+1))))"
   ]
  },
  {
   "cell_type": "code",
   "execution_count": 5,
   "metadata": {},
   "outputs": [
    {
     "data": {
      "text/plain": [
       "{1: [], 2: [6, 7], 3: [1, 4], 4: [], 5: [3, 2], 6: [], 7: []}"
      ]
     },
     "execution_count": 5,
     "metadata": {},
     "output_type": "execute_result"
    }
   ],
   "source": [
    "T"
   ]
  },
  {
   "cell_type": "code",
   "execution_count": 6,
   "metadata": {},
   "outputs": [
    {
     "name": "stdout",
     "output_type": "stream",
     "text": [
      "[5]\n"
     ]
    }
   ],
   "source": [
    "L=list(range(1,n+1))\n",
    "\n",
    "for i in range(1,n+1):\n",
    "    for j in T[i]:\n",
    "        L.remove(j)\n",
    "print(L) "
   ]
  },
  {
   "cell_type": "code",
   "execution_count": 7,
   "metadata": {},
   "outputs": [],
   "source": [
    "root =set(range(1,n+1))"
   ]
  },
  {
   "cell_type": "code",
   "execution_count": 8,
   "metadata": {},
   "outputs": [
    {
     "data": {
      "text/plain": [
       "{1, 2, 3, 4, 5, 6, 7}"
      ]
     },
     "execution_count": 8,
     "metadata": {},
     "output_type": "execute_result"
    }
   ],
   "source": [
    "root"
   ]
  },
  {
   "cell_type": "code",
   "execution_count": 12,
   "metadata": {},
   "outputs": [
    {
     "data": {
      "text/plain": [
       "{1, 2, 3, 4, 5}"
      ]
     },
     "execution_count": 12,
     "metadata": {},
     "output_type": "execute_result"
    }
   ],
   "source": [
    "root-set([6,7])"
   ]
  },
  {
   "cell_type": "code",
   "execution_count": 3,
   "metadata": {},
   "outputs": [
    {
     "name": "stdout",
     "output_type": "stream",
     "text": [
      "7\n",
      "0\n",
      "2 6 7\n",
      "2 1 4\n",
      "0\n",
      "2 3 2\n",
      "0\n",
      "0\n",
      "5\n",
      "4\n"
     ]
    }
   ],
   "source": [
    "n = int(input())\n",
    "T={}\n",
    "root =set(range(1,n+1))\n",
    "\n",
    "for i in range(1,n+1):\n",
    "    line = input().split()\n",
    "    n_line =list(map (int,line))[1:]\n",
    "    T[i] =n_line\n",
    "    root=root-set(n_line)\n",
    "\n",
    "def h(v):\n",
    "    c_nodes =T[v]\n",
    "    if c_nodes ==[]:\n",
    "        return 0\n",
    "    return max(map(h,c_nodes))+1 \n",
    "print(root.pop())\n",
    "print(sum(map(h,range(1,n+1))))"
   ]
  },
  {
   "cell_type": "code",
   "execution_count": 6,
   "metadata": {},
   "outputs": [
    {
     "data": {
      "text/plain": [
       "<filter at 0x2508939d780>"
      ]
     },
     "execution_count": 6,
     "metadata": {},
     "output_type": "execute_result"
    }
   ],
   "source": [
    "A =[3,1,2,4]\n",
    "filter(lambda x:(x%2==0),A)"
   ]
  },
  {
   "cell_type": "code",
   "execution_count": 10,
   "metadata": {},
   "outputs": [
    {
     "data": {
      "text/plain": [
       "[2, 4]"
      ]
     },
     "execution_count": 10,
     "metadata": {},
     "output_type": "execute_result"
    }
   ],
   "source": [
    "list(filter(lambda x:(x%2==0),A))"
   ]
  },
  {
   "cell_type": "code",
   "execution_count": 11,
   "metadata": {},
   "outputs": [],
   "source": [
    "B =list(filter(lambda x:(x%2==0),A))\n",
    "C =list(filter(lambda x:(x%2!=0),A))"
   ]
  },
  {
   "cell_type": "code",
   "execution_count": 12,
   "metadata": {},
   "outputs": [
    {
     "data": {
      "text/plain": [
       "[2, 4, 3, 1]"
      ]
     },
     "execution_count": 12,
     "metadata": {},
     "output_type": "execute_result"
    }
   ],
   "source": [
    "B+C"
   ]
  },
  {
   "cell_type": "code",
   "execution_count": 13,
   "metadata": {},
   "outputs": [],
   "source": [
    "A=[[1,2],[3,4],[5,6]]"
   ]
  },
  {
   "cell_type": "code",
   "execution_count": 15,
   "metadata": {},
   "outputs": [
    {
     "name": "stdout",
     "output_type": "stream",
     "text": [
      "[[1, 2], [3, 4], [5, 6]]\n"
     ]
    }
   ],
   "source": [
    "print(A)"
   ]
  },
  {
   "cell_type": "code",
   "execution_count": 16,
   "metadata": {},
   "outputs": [
    {
     "data": {
      "text/plain": [
       "1"
      ]
     },
     "execution_count": 16,
     "metadata": {},
     "output_type": "execute_result"
    }
   ],
   "source": [
    "A[0][0]"
   ]
  },
  {
   "cell_type": "code",
   "execution_count": 4,
   "metadata": {},
   "outputs": [
    {
     "name": "stdout",
     "output_type": "stream",
     "text": [
      "The sum of row 0 is 3\n",
      "The sum of row 1 is 10\n",
      "The sum of row 2 is 21\n"
     ]
    }
   ],
   "source": [
    "def main(A =[[]]):\n",
    "    M =len(A)\n",
    "    N=len(A[0])\n",
    "    rowsum=0\n",
    "    for i in range(M):\n",
    "\n",
    "        for j in range(N):\n",
    "            rowsum=rowsum+A[i][j]\n",
    "        print(f\"The sum of row {i} is {rowsum}\")\n",
    "B=[[1,2],[3,4],[5,6]]\n",
    "main(B)"
   ]
  },
  {
   "cell_type": "code",
   "execution_count": 5,
   "metadata": {},
   "outputs": [
    {
     "name": "stdout",
     "output_type": "stream",
     "text": [
      "The sum of row 0 is 3\n",
      "The sum of row 1 is 7\n",
      "The sum of row 2 is 11\n"
     ]
    }
   ],
   "source": [
    "def main(A =[[]]):\n",
    "    M =len(A)\n",
    "    N=len(A[0])\n",
    "    \n",
    "    for i in range(M):\n",
    "        rowsum=0\n",
    "        for j in range(N):                  #10603觀念題第6題\n",
    "            rowsum=rowsum+A[i][j]\n",
    "        print(f\"The sum of row {i} is {rowsum}\")\n",
    "B=[[1,2],[3,4],[5,6]]\n",
    "main(B)"
   ]
  },
  {
   "cell_type": "code",
   "execution_count": null,
   "metadata": {},
   "outputs": [
    {
     "name": "stdout",
     "output_type": "stream",
     "text": [
      "11 12 13 14 15 3\n",
      "3 is the smallest.\n",
      "11 12 13 14 25 20\n",
      "20 is the smallest.\n",
      "23 15 18 20 11 12\n",
      "12 is not the smallest.\n",
      "18 17 19 24 15 16\n",
      "16 is not the smallest.\n"
     ]
    }
   ],
   "source": [
    "line =input().split()\n",
    "a,b,c,d,e,f = map( int,line)\n",
    "\n",
    "while True:\n",
    "    for i in range(5):\n",
    "        if int(line[i])>int(f):\n",
    "            allBig = True\n",
    "        else:\n",
    "            allBig = False\n",
    "            break\n",
    "    if (allBig == True):\n",
    "        print(f\"{f} is the smallest.\")\n",
    "    else:\n",
    "        print(f\"{f} is not the smallest.\")\n",
    "    line =input().split()\n",
    "    a,b,c,d,e,f = map( int,line)\n",
    "\n"
   ]
  },
  {
   "cell_type": "code",
   "execution_count": 7,
   "metadata": {},
   "outputs": [
    {
     "data": {
      "text/plain": [
       "str"
      ]
     },
     "execution_count": 7,
     "metadata": {},
     "output_type": "execute_result"
    }
   ],
   "source": [
    "type(line[0])"
   ]
  },
  {
   "cell_type": "code",
   "execution_count": null,
   "metadata": {},
   "outputs": [],
   "source": [
    "line =input().split()"
   ]
  }
 ],
 "metadata": {
  "kernelspec": {
   "display_name": "Python 3",
   "language": "python",
   "name": "python3"
  },
  "language_info": {
   "codemirror_mode": {
    "name": "ipython",
    "version": 3
   },
   "file_extension": ".py",
   "mimetype": "text/x-python",
   "name": "python",
   "nbconvert_exporter": "python",
   "pygments_lexer": "ipython3",
   "version": "3.6.6"
  }
 },
 "nbformat": 4,
 "nbformat_minor": 2
}
