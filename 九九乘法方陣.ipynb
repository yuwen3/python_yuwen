{
 "cells": [
  {
   "cell_type": "code",
   "execution_count": 1,
   "metadata": {},
   "outputs": [
    {
     "name": "stdout",
     "output_type": "stream",
     "text": [
      "xx 00 01 01 01 02 01 02 01\n",
      "00 xx 02 02 03 04 04 05 06\n",
      "01 02 xx 04 01 06 01 08 01\n",
      "01 02 04 xx 06 08 09 10 12\n",
      "01 03 01 06 xx 10 01 13 01\n",
      "02 04 06 08 10 xx 14 16 18\n",
      "01 04 01 09 01 14 xx 18 01\n",
      "02 05 08 10 13 16 18 xx 24\n",
      "01 06 01 12 01 18 01 24 xx\n"
     ]
    }
   ],
   "source": [
    "for i in range(1,10):\n",
    "    k =[]\n",
    "    for j in range(1,10):\n",
    "        if i ==j:\n",
    "            s ='xx'\n",
    "        elif (i*j)%2 ==1:\n",
    "            s =1\n",
    "        else:\n",
    "            s =(i*j)//3\n",
    "        k.append(f'{str(s):0>2s}')\n",
    "    t =' '.join(k)\n",
    "    print(t)"
   ]
  },
  {
   "cell_type": "code",
   "execution_count": null,
   "metadata": {},
   "outputs": [],
   "source": []
  }
 ],
 "metadata": {
  "kernelspec": {
   "display_name": "Python 3",
   "language": "python",
   "name": "python3"
  },
  "language_info": {
   "codemirror_mode": {
    "name": "ipython",
    "version": 3
   },
   "file_extension": ".py",
   "mimetype": "text/x-python",
   "name": "python",
   "nbconvert_exporter": "python",
   "pygments_lexer": "ipython3",
   "version": "3.7.3"
  }
 },
 "nbformat": 4,
 "nbformat_minor": 2
}
