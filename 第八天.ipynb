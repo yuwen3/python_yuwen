{
 "cells": [
  {
   "cell_type": "markdown",
   "metadata": {},
   "source": [
    "## 邏輯運算子 (Logic Operators)\n",
    "\n",
    "#### 問題描述\n",
    "\n",
    "#### 小蘇最近在學三種邏輯運算子 AND、OR 和 XOR。這三種運算子都是二元運算子，\n",
    "\n",
    "也就是說在運算時需要兩個運算元，例如 a AND b。對於整數a與b，以下三個二元運算\n",
    "子的運算結果定義如下列三個表格：\n",
    "\n",
    "#### 舉例來說：\n",
    "\n",
    "#### (1) 0 AND 0 的結果為 0 ， 0 OR 0 以及 0 XOR 0 的結果也為 0 。\n",
    "\n",
    "#### (2) 0 AND 3 的結果為 0 ， 0 OR 3 以及 0 XOR 3 的結果則為 1 。\n",
    "\n",
    "#### (3) 4 AND 9 的結果為 1 ， 4 OR 9 的結果也為 1 ，但 4 XOR 9 的結果為 0 。\n",
    "\n",
    "```\n",
    "請撰寫一個程式，讀入 a、b 以及邏輯運算的結果，輸出可能的邏輯運算為何。\n",
    "```\n",
    "輸入格式\n",
    "輸入只有一行，共三個整數值，整數間以一個空白隔開。第一個整數代表 a，第二\n",
    "個整數代表 b，這兩數均為非負的整數。第三個整數代表邏輯運算的結果，只會是 0 或 1 。\n",
    "\n",
    "輸出格式\n",
    "輸出可能得到指定結果的運算，若有多個，輸出順序為 AND、OR、XOR，每個可能\n",
    "的運算單獨輸出一行，每行結尾皆有換行。若不可能得到指定結果，輸出 IMPOSSIBLE。\n",
    "（注意輸出時所有英文字母均為大寫字母。）\n",
    "\n",
    "```\n",
    "範例一：輸入\n",
    "0 0 0\n",
    "```\n",
    "```\n",
    "範例一：正確輸出\n",
    "AND\n",
    "OR\n",
    "XOR\n",
    "```\n",
    "#### 範例二：輸入\n",
    "\n",
    "#### 1 1 1\n",
    "\n",
    "#### 範例二：正確輸出\n",
    "\n",
    "#### AND\n",
    "\n",
    "#### OR\n",
    "\n",
    "#### 範例三：輸入\n",
    "\n",
    "#### 3 0 1\n",
    "\n",
    "#### 範例三：正確輸出\n",
    "\n",
    "#### OR\n",
    "\n",
    "#### XOR\n",
    "\n",
    "#### 範例四：輸入\n",
    "\n",
    "#### 0 0 1\n",
    "\n",
    "#### 範例四：正確輸出\n",
    "\n",
    "#### IMPOSSIBLE\n",
    "\n",
    "#### 評分說明\n",
    "\n",
    "輸入包含若干筆測試資料，每一筆測試資料的執行時間限制(time limit)均為 1 秒，依\n",
    "正確通過測資筆數給分。其中：\n",
    "第 1 子題組 80 分，a 和 b 的值只會是 0 或 1 。\n",
    "第 2 子題組 20 分， 0 _≤_ a, b < 10,000。"
   ]
  },
  {
   "cell_type": "code",
   "execution_count": 9,
   "metadata": {},
   "outputs": [
    {
     "name": "stdout",
     "output_type": "stream",
     "text": [
      "請輸入三個數字:589\n",
      "['589']\n"
     ]
    }
   ],
   "source": [
    "a =input('請輸入三個數字:')\n",
    "b=a.split(' ')\n",
    "print(b)\n"
   ]
  },
  {
   "cell_type": "code",
   "execution_count": 15,
   "metadata": {},
   "outputs": [
    {
     "name": "stdout",
     "output_type": "stream",
     "text": [
      "5 8 7\n",
      "1 1 1\n"
     ]
    }
   ],
   "source": [
    "a,b,c=input().split()\n",
    "\n",
    "if int(a) !=0:\n",
    "    a=1\n",
    "else:\n",
    "    a=0\n",
    "if int(b) !=0:\n",
    "    b=1\n",
    "else:\n",
    "    b=0\n",
    "if int(c) !=0:\n",
    "    c=1\n",
    "else:\n",
    "    c=0\n",
    "print(a,b,c)"
   ]
  },
  {
   "cell_type": "code",
   "execution_count": 21,
   "metadata": {},
   "outputs": [
    {
     "name": "stdout",
     "output_type": "stream",
     "text": [
      "1 2 3\n",
      "AND\n",
      "OR\n"
     ]
    }
   ],
   "source": [
    "line=input().split()\n",
    "a,b,c=map(int,line)\n",
    "if a!=0:\n",
    "    a=1\n",
    "if b!=0:\n",
    "    b=1\n",
    "if c!=0:\n",
    "    c=1\n",
    "if(a&b==c):\n",
    "    print(\"AND\")\n",
    "if(a|b==c):\n",
    "    print(\"OR\")\n",
    "if(a^b==c):\n",
    "    print(\"XOR\")\n",
    "if not ((a&b==c)or(a|b==c)or(a^b==c)):\n",
    "    print(\"IMPOSSIBLE\")"
   ]
  },
  {
   "cell_type": "code",
   "execution_count": 16,
   "metadata": {},
   "outputs": [],
   "source": [
    "a=7\n",
    "\n",
    "if a!=0:\n",
    "    a=1"
   ]
  },
  {
   "cell_type": "code",
   "execution_count": 17,
   "metadata": {},
   "outputs": [
    {
     "data": {
      "text/plain": [
       "1"
      ]
     },
     "execution_count": 17,
     "metadata": {},
     "output_type": "execute_result"
    }
   ],
   "source": [
    "a"
   ]
  },
  {
   "cell_type": "code",
   "execution_count": 38,
   "metadata": {},
   "outputs": [
    {
     "name": "stdout",
     "output_type": "stream",
     "text": [
      "0 0 1\n",
      "IMPOSSIBLE\n"
     ]
    }
   ],
   "source": [
    "line=input().split()\n",
    "a,b,c=map(int,line)     #map(f,[x,y,z])代表出來的為[f(x),f(y),f(z)]\n",
    "if a!=0:\n",
    "    a=1\n",
    "if b!=0:\n",
    "    b=1\n",
    "if c!=0:\n",
    "    c=1\n",
    "fail =True\n",
    "if(a&b==c):\n",
    "    print(\"AND\")\n",
    "    fail =False\n",
    "if(a|b==c):\n",
    "    print(\"OR\")\n",
    "    fail =False\n",
    "if(a^b==c):\n",
    "    print(\"XOR\")\n",
    "    fail =False\n",
    "if fail:\n",
    "    print(\"IMPOSSIBLE\")"
   ]
  },
  {
   "cell_type": "code",
   "execution_count": 50,
   "metadata": {},
   "outputs": [
    {
     "name": "stdout",
     "output_type": "stream",
     "text": [
      "File `106101p1.py` exists. Overwrite (y/[N])?  y\n",
      "The following commands were written to file `106101p1.py`:\n",
      "line=input().split()\n",
      "a,b,c=map(int,line)\n",
      "if a!=0:\n",
      "    a=1\n",
      "if b!=0:\n",
      "    b=1\n",
      "if c!=0:\n",
      "    c=1\n",
      "fail =True\n",
      "if(a&b==c):\n",
      "    print(\"AND\")\n",
      "    fail =False\n",
      "if(a|b==c):\n",
      "    print(\"OR\")\n",
      "    fail =False\n",
      "if(a^b==c):\n",
      "    print(\"XOR\")\n",
      "    fail =False\n",
      "if fail:\n",
      "    print(\"IMPOSSIBLE\")\n"
     ]
    }
   ],
   "source": [
    "%save \"106101p1.py\"38"
   ]
  },
  {
   "cell_type": "code",
   "execution_count": 51,
   "metadata": {},
   "outputs": [
    {
     "name": "stdout",
     "output_type": "stream",
     "text": [
      "Overwriting 106101p1t01.txt\n"
     ]
    }
   ],
   "source": [
    "%%writefile \"106101p1t01.txt\"\n",
    "0 0 0"
   ]
  },
  {
   "cell_type": "code",
   "execution_count": 52,
   "metadata": {},
   "outputs": [
    {
     "name": "stdout",
     "output_type": "stream",
     "text": [
      "Overwriting 106101p1t02.txt\n"
     ]
    }
   ],
   "source": [
    "%%writefile \"106101p1t02.txt\"\n",
    "1 1 1"
   ]
  },
  {
   "cell_type": "code",
   "execution_count": 53,
   "metadata": {},
   "outputs": [
    {
     "name": "stdout",
     "output_type": "stream",
     "text": [
      "Overwriting 106101p1t03.txt\n"
     ]
    }
   ],
   "source": [
    "%%writefile \"106101p1t03.txt\"\n",
    "3 0 1"
   ]
  },
  {
   "cell_type": "code",
   "execution_count": 54,
   "metadata": {},
   "outputs": [
    {
     "name": "stdout",
     "output_type": "stream",
     "text": [
      "Overwriting 106101p1t04.txt\n"
     ]
    }
   ],
   "source": [
    "%%writefile \"106101p1t04.txt\"\n",
    "0 0 1"
   ]
  },
  {
   "cell_type": "code",
   "execution_count": 55,
   "metadata": {},
   "outputs": [
    {
     "name": "stdout",
     "output_type": "stream",
     "text": [
      "AND\n",
      "OR\n",
      "XOR\n"
     ]
    }
   ],
   "source": [
    "!python 106101p1.py < 106101p1t01.txt"
   ]
  },
  {
   "cell_type": "code",
   "execution_count": 56,
   "metadata": {},
   "outputs": [
    {
     "name": "stdout",
     "output_type": "stream",
     "text": [
      "AND\n",
      "OR\n"
     ]
    }
   ],
   "source": [
    "!python 106101p1.py < 106101p1t02.txt"
   ]
  },
  {
   "cell_type": "code",
   "execution_count": 57,
   "metadata": {},
   "outputs": [
    {
     "name": "stdout",
     "output_type": "stream",
     "text": [
      "OR\n",
      "XOR\n"
     ]
    }
   ],
   "source": [
    "!python 106101p1.py < 106101p1t03.txt"
   ]
  },
  {
   "cell_type": "code",
   "execution_count": 58,
   "metadata": {},
   "outputs": [
    {
     "name": "stdout",
     "output_type": "stream",
     "text": [
      "IMPOSSIBLE\n"
     ]
    }
   ],
   "source": [
    "!python 106101p1.py < 106101p1t04.txt"
   ]
  },
  {
   "cell_type": "code",
   "execution_count": 59,
   "metadata": {},
   "outputs": [],
   "source": [
    "def f(x):\n",
    "    return x**2"
   ]
  },
  {
   "cell_type": "code",
   "execution_count": 60,
   "metadata": {},
   "outputs": [
    {
     "data": {
      "text/plain": [
       "9"
      ]
     },
     "execution_count": 60,
     "metadata": {},
     "output_type": "execute_result"
    }
   ],
   "source": [
    "f(3)"
   ]
  },
  {
   "cell_type": "code",
   "execution_count": 64,
   "metadata": {},
   "outputs": [
    {
     "data": {
      "text/plain": [
       "<function __main__.<lambda>(x)>"
      ]
     },
     "execution_count": 64,
     "metadata": {},
     "output_type": "execute_result"
    }
   ],
   "source": [
    "lambda x:x**2"
   ]
  },
  {
   "cell_type": "code",
   "execution_count": 65,
   "metadata": {},
   "outputs": [],
   "source": [
    "st='aaaBBBccDEf'"
   ]
  },
  {
   "cell_type": "code",
   "execution_count": 81,
   "metadata": {},
   "outputs": [],
   "source": [
    "c='A'"
   ]
  },
  {
   "cell_type": "code",
   "execution_count": 82,
   "metadata": {},
   "outputs": [
    {
     "data": {
      "text/plain": [
       "False"
      ]
     },
     "execution_count": 82,
     "metadata": {},
     "output_type": "execute_result"
    }
   ],
   "source": [
    "c.islower()  #小寫"
   ]
  },
  {
   "cell_type": "code",
   "execution_count": 83,
   "metadata": {},
   "outputs": [
    {
     "data": {
      "text/plain": [
       "True"
      ]
     },
     "execution_count": 83,
     "metadata": {},
     "output_type": "execute_result"
    }
   ],
   "source": [
    "c.isupper()  #大寫"
   ]
  },
  {
   "cell_type": "code",
   "execution_count": 70,
   "metadata": {},
   "outputs": [],
   "source": [
    "newst ='00011100110'"
   ]
  },
  {
   "cell_type": "code",
   "execution_count": 71,
   "metadata": {},
   "outputs": [
    {
     "data": {
      "text/plain": [
       "True"
      ]
     },
     "execution_count": 71,
     "metadata": {},
     "output_type": "execute_result"
    }
   ],
   "source": [
    "'0011' in newst"
   ]
  },
  {
   "cell_type": "code",
   "execution_count": 72,
   "metadata": {},
   "outputs": [
    {
     "data": {
      "text/plain": [
       "True"
      ]
     },
     "execution_count": 72,
     "metadata": {},
     "output_type": "execute_result"
    }
   ],
   "source": [
    "'1100' in newst"
   ]
  },
  {
   "cell_type": "code",
   "execution_count": 73,
   "metadata": {},
   "outputs": [
    {
     "data": {
      "text/plain": [
       "False"
      ]
     },
     "execution_count": 73,
     "metadata": {},
     "output_type": "execute_result"
    }
   ],
   "source": [
    "'001100' in newst"
   ]
  },
  {
   "cell_type": "code",
   "execution_count": 74,
   "metadata": {},
   "outputs": [
    {
     "data": {
      "text/plain": [
       "True"
      ]
     },
     "execution_count": 74,
     "metadata": {},
     "output_type": "execute_result"
    }
   ],
   "source": [
    "'110011' in newst"
   ]
  },
  {
   "cell_type": "code",
   "execution_count": 98,
   "metadata": {},
   "outputs": [
    {
     "name": "stdout",
     "output_type": "stream",
     "text": [
      "3\n",
      "DDaasAAAbbCC\n",
      "6\n",
      "110001110011\n"
     ]
    }
   ],
   "source": [
    "c=int(input())\n",
    "a=input()\n",
    "b=''\n",
    "for i in a:\n",
    "    if i.islower() ==True:\n",
    "        b=b+\"0\"\n",
    "    else:\n",
    "        b=b+\"1\"\n",
    "\n",
    "answer =int()\n",
    "if (\"0\"*c in b) or ('1'*c in b) is True:\n",
    "    answer =c\n",
    "if ((\"0\"*c+'1'*c) in b) or ((\"1\"*c+'0'*c) in b) is True:\n",
    "    answer =c*2\n",
    "\n",
    "print(answer)    \n",
    "print(b)    "
   ]
  },
  {
   "cell_type": "code",
   "execution_count": 104,
   "metadata": {},
   "outputs": [],
   "source": [
    "line='gYFUYFYyfiuYG'"
   ]
  },
  {
   "cell_type": "code",
   "execution_count": 105,
   "metadata": {},
   "outputs": [
    {
     "data": {
      "text/plain": [
       "[False,\n",
       " True,\n",
       " True,\n",
       " True,\n",
       " True,\n",
       " True,\n",
       " True,\n",
       " False,\n",
       " False,\n",
       " False,\n",
       " False,\n",
       " True,\n",
       " True]"
      ]
     },
     "execution_count": 105,
     "metadata": {},
     "output_type": "execute_result"
    }
   ],
   "source": [
    "[x.isupper() for x in line]"
   ]
  },
  {
   "cell_type": "code",
   "execution_count": 106,
   "metadata": {},
   "outputs": [
    {
     "data": {
      "text/plain": [
       "[0, 1, 1, 1, 1, 1, 1, 0, 0, 0, 0, 1, 1]"
      ]
     },
     "execution_count": 106,
     "metadata": {},
     "output_type": "execute_result"
    }
   ],
   "source": [
    "[int(x.isupper()) for x in line]"
   ]
  },
  {
   "cell_type": "code",
   "execution_count": 107,
   "metadata": {},
   "outputs": [
    {
     "data": {
      "text/plain": [
       "['0', '1', '1', '1', '1', '1', '1', '0', '0', '0', '0', '1', '1']"
      ]
     },
     "execution_count": 107,
     "metadata": {},
     "output_type": "execute_result"
    }
   ],
   "source": [
    "[str(int(x.isupper())) for x in line]"
   ]
  },
  {
   "cell_type": "code",
   "execution_count": 108,
   "metadata": {},
   "outputs": [
    {
     "data": {
      "text/plain": [
       "'0111111000011'"
      ]
     },
     "execution_count": 108,
     "metadata": {},
     "output_type": "execute_result"
    }
   ],
   "source": [
    "''.join([str(int(x.isupper())) for x in line])"
   ]
  },
  {
   "cell_type": "code",
   "execution_count": 109,
   "metadata": {},
   "outputs": [],
   "source": [
    "k=2"
   ]
  },
  {
   "cell_type": "code",
   "execution_count": 110,
   "metadata": {},
   "outputs": [],
   "source": [
    "pattern =['0'*k, '1'*k]"
   ]
  },
  {
   "cell_type": "code",
   "execution_count": 111,
   "metadata": {},
   "outputs": [
    {
     "data": {
      "text/plain": [
       "['00', '11']"
      ]
     },
     "execution_count": 111,
     "metadata": {},
     "output_type": "execute_result"
    }
   ],
   "source": [
    "pattern"
   ]
  },
  {
   "cell_type": "code",
   "execution_count": 112,
   "metadata": {},
   "outputs": [
    {
     "data": {
      "text/plain": [
       "('00', '11')"
      ]
     },
     "execution_count": 112,
     "metadata": {},
     "output_type": "execute_result"
    }
   ],
   "source": [
    "p0=pattern[0]\n",
    "p1=pattern[1]\n",
    "p0,p1"
   ]
  },
  {
   "cell_type": "code",
   "execution_count": 113,
   "metadata": {},
   "outputs": [
    {
     "data": {
      "text/plain": [
       "False"
      ]
     },
     "execution_count": 113,
     "metadata": {},
     "output_type": "execute_result"
    }
   ],
   "source": [
    "p0 in line"
   ]
  },
  {
   "cell_type": "code",
   "execution_count": 114,
   "metadata": {},
   "outputs": [
    {
     "data": {
      "text/plain": [
       "False"
      ]
     },
     "execution_count": 114,
     "metadata": {},
     "output_type": "execute_result"
    }
   ],
   "source": [
    "p1 in line"
   ]
  },
  {
   "cell_type": "code",
   "execution_count": 119,
   "metadata": {},
   "outputs": [
    {
     "data": {
      "text/plain": [
       "('001111', '0000')"
      ]
     },
     "execution_count": 119,
     "metadata": {},
     "output_type": "execute_result"
    }
   ],
   "source": [
    "p0=p0+pattern[1]\n",
    "p1=p1+pattern[0]\n",
    "p0,p1"
   ]
  },
  {
   "cell_type": "code",
   "execution_count": 120,
   "metadata": {},
   "outputs": [
    {
     "data": {
      "text/plain": [
       "('00111100', '000011')"
      ]
     },
     "execution_count": 120,
     "metadata": {},
     "output_type": "execute_result"
    }
   ],
   "source": [
    "p0=p0+pattern[0]\n",
    "p1=p1+pattern[1]\n",
    "p0,p1"
   ]
  },
  {
   "cell_type": "code",
   "execution_count": 122,
   "metadata": {},
   "outputs": [
    {
     "name": "stdout",
     "output_type": "stream",
     "text": [
      "2\n",
      "DDaasAAbbCC\n",
      "8\n"
     ]
    }
   ],
   "source": [
    "k = int(input())\n",
    "line =input()\n",
    "\n",
    "st =''.join([str(int(x.isupper())) for x in line])\n",
    "\n",
    "pattern =['0'*k,'1'*k]\n",
    "p0 =''\n",
    "p1 =''\n",
    "\n",
    "c =True\n",
    "m =0\n",
    "\n",
    "while c:\n",
    "    p0 =p0+pattern[m%2]\n",
    "    p1 =p1+pattern[(m+1)%2]\n",
    "    \n",
    "    if (p0 in st) or (p1 in st):\n",
    "        m =m+1\n",
    "    else:\n",
    "        c =False\n",
    "\n",
    "print(k*m)"
   ]
  },
  {
   "cell_type": "code",
   "execution_count": 123,
   "metadata": {},
   "outputs": [
    {
     "name": "stdout",
     "output_type": "stream",
     "text": [
      " 磁碟區 C 中的磁碟是 Phantosys\n",
      " 磁碟區序號:  7E3B-5863\n",
      "\n",
      " C:\\Users\\admin\\Desktop\\python_yuwen 的目錄\n",
      "\n",
      "2019/07/25  下午 01:42    <DIR>          .\n",
      "2019/07/25  下午 01:42    <DIR>          ..\n",
      "2019/07/25  上午 09:22    <DIR>          .ipynb_checkpoints\n",
      "2019/07/25  上午 08:50            13,408 10503.docx\n",
      "2019/07/25  上午 10:32               307 106101p1.py\n",
      "2019/07/25  上午 10:32                 5 106101p1t01.txt\n",
      "2019/07/25  上午 10:32                 5 106101p1t02.txt\n",
      "2019/07/25  上午 10:32                 5 106101p1t03.txt\n",
      "2019/07/25  上午 10:32                 5 106101p1t04.txt\n",
      "2019/07/25  上午 08:50             4,113 APCS10503.ipynb\n",
      "2019/07/25  上午 08:50               514 game.py\n",
      "2019/07/25  上午 08:50            10,042 images.jpg\n",
      "2019/07/25  上午 08:50                43 mydic.csv\n",
      "2019/07/25  上午 08:50                90 mydic.pikle\n",
      "2019/07/25  上午 08:50               157 p1.py\n",
      "2019/07/25  上午 08:50               322 poem.py\n",
      "2019/07/25  上午 08:50                57 README.md\n",
      "2019/07/25  上午 08:50                40 text01.txt\n",
      "2019/07/25  上午 08:50               119 text02.txt\n",
      "2019/07/25  上午 08:50               587 Untitled.ipynb\n",
      "2019/07/25  上午 08:50               558 Untitled1.ipynb\n",
      "2019/07/25  上午 08:50           144,271 我的第一個python程式.ipynb\n",
      "2019/07/25  上午 08:50            15,579 第七天.ipynb\n",
      "2019/07/25  上午 08:50            60,263 第二天.ipynb\n",
      "2019/07/25  下午 01:42            17,249 第八天.ipynb\n",
      "2019/07/25  上午 08:50            15,795 第三天.ipynb\n",
      "2019/07/25  上午 08:50            21,605 第五天.ipynb\n",
      "2019/07/25  上午 08:50           840,181 第六天.ipynb\n",
      "2019/07/25  上午 09:39            36,059 第四天.ipynb\n",
      "              26 個檔案       1,181,379 位元組\n",
      "               3 個目錄  77,745,508,352 位元組可用\n"
     ]
    }
   ],
   "source": [
    "%ls   #檢查資料夾內有那些檔案"
   ]
  },
  {
   "cell_type": "code",
   "execution_count": 131,
   "metadata": {},
   "outputs": [
    {
     "name": "stdout",
     "output_type": "stream",
     "text": [
      "File `106102p2.py` exists. Overwrite (y/[N])?  \n",
      "Operation cancelled.\n"
     ]
    }
   ],
   "source": [
    "%save \"106102p2.py\"122"
   ]
  },
  {
   "cell_type": "code",
   "execution_count": 132,
   "metadata": {},
   "outputs": [
    {
     "name": "stdout",
     "output_type": "stream",
     "text": [
      "Writing 106102p2t01.txt\n"
     ]
    }
   ],
   "source": [
    "%%writefile \"106102p2t01.txt\"\n",
    "1\n",
    "aBBdaaa"
   ]
  },
  {
   "cell_type": "code",
   "execution_count": 133,
   "metadata": {},
   "outputs": [
    {
     "name": "stdout",
     "output_type": "stream",
     "text": [
      "Writing 106102p2t02.txt\n"
     ]
    }
   ],
   "source": [
    "%%writefile \"106102p2t02.txt\"\n",
    "3\n",
    "DDaasAAbbCC"
   ]
  },
  {
   "cell_type": "code",
   "execution_count": 134,
   "metadata": {},
   "outputs": [
    {
     "name": "stdout",
     "output_type": "stream",
     "text": [
      "Writing 106102p2t03.txt\n"
     ]
    }
   ],
   "source": [
    "%%writefile \"106102p2t03.txt\"\n",
    "2\n",
    "aafAXbbCDCCC"
   ]
  },
  {
   "cell_type": "code",
   "execution_count": 135,
   "metadata": {},
   "outputs": [
    {
     "name": "stdout",
     "output_type": "stream",
     "text": [
      "Writing 106102p2t04.txt\n"
     ]
    }
   ],
   "source": [
    "%%writefile \"106102p2t04.txt\"\n",
    "3\n",
    "DDaaAAbbCC"
   ]
  },
  {
   "cell_type": "code",
   "execution_count": 136,
   "metadata": {},
   "outputs": [
    {
     "name": "stdout",
     "output_type": "stream",
     "text": [
      "2\n"
     ]
    }
   ],
   "source": [
    "!python 106102p2.py < 106102p2t01.txt"
   ]
  },
  {
   "cell_type": "code",
   "execution_count": 137,
   "metadata": {},
   "outputs": [
    {
     "name": "stdout",
     "output_type": "stream",
     "text": [
      "3\n"
     ]
    }
   ],
   "source": [
    "!python 106102p2.py < 106102p2t02.txt"
   ]
  },
  {
   "cell_type": "code",
   "execution_count": 138,
   "metadata": {},
   "outputs": [
    {
     "name": "stdout",
     "output_type": "stream",
     "text": [
      "8\n"
     ]
    }
   ],
   "source": [
    "!python 106102p2.py < 106102p2t03.txt"
   ]
  },
  {
   "cell_type": "code",
   "execution_count": 139,
   "metadata": {},
   "outputs": [
    {
     "name": "stdout",
     "output_type": "stream",
     "text": [
      "0\n"
     ]
    }
   ],
   "source": [
    "!python 106102p2.py < 106102p2t04.txt"
   ]
  },
  {
   "cell_type": "code",
   "execution_count": 140,
   "metadata": {},
   "outputs": [],
   "source": [
    "L = list(\"husgbcfjsdhk\")"
   ]
  },
  {
   "cell_type": "code",
   "execution_count": 142,
   "metadata": {},
   "outputs": [
    {
     "data": {
      "text/plain": [
       "['h', 'u', 's', 'g', 'b', 'c', 'f', 'j', 's', 'd', 'h', 'k']"
      ]
     },
     "execution_count": 142,
     "metadata": {},
     "output_type": "execute_result"
    }
   ],
   "source": [
    "L"
   ]
  },
  {
   "cell_type": "code",
   "execution_count": 143,
   "metadata": {},
   "outputs": [
    {
     "name": "stdout",
     "output_type": "stream",
     "text": [
      "0 h\n",
      "1 u\n",
      "2 s\n",
      "3 g\n",
      "4 b\n",
      "5 c\n",
      "6 f\n",
      "7 j\n",
      "8 s\n",
      "9 d\n",
      "10 h\n",
      "11 k\n"
     ]
    }
   ],
   "source": [
    "for i in range(len(L)):\n",
    "    print(i,L[i])"
   ]
  },
  {
   "cell_type": "code",
   "execution_count": 144,
   "metadata": {},
   "outputs": [
    {
     "data": {
      "text/plain": [
       "<enumerate at 0x13d22a82798>"
      ]
     },
     "execution_count": 144,
     "metadata": {},
     "output_type": "execute_result"
    }
   ],
   "source": [
    "enumerate(L)"
   ]
  },
  {
   "cell_type": "code",
   "execution_count": 145,
   "metadata": {},
   "outputs": [
    {
     "data": {
      "text/plain": [
       "[(0, 'h'),\n",
       " (1, 'u'),\n",
       " (2, 's'),\n",
       " (3, 'g'),\n",
       " (4, 'b'),\n",
       " (5, 'c'),\n",
       " (6, 'f'),\n",
       " (7, 'j'),\n",
       " (8, 's'),\n",
       " (9, 'd'),\n",
       " (10, 'h'),\n",
       " (11, 'k')]"
      ]
     },
     "execution_count": 145,
     "metadata": {},
     "output_type": "execute_result"
    }
   ],
   "source": [
    "list(enumerate(L))"
   ]
  },
  {
   "cell_type": "code",
   "execution_count": 148,
   "metadata": {},
   "outputs": [
    {
     "name": "stdout",
     "output_type": "stream",
     "text": [
      "0 h\n",
      "1 u\n",
      "2 s\n",
      "3 g\n",
      "4 b\n",
      "5 c\n",
      "6 f\n",
      "7 j\n",
      "8 s\n",
      "9 d\n",
      "10 h\n",
      "11 k\n"
     ]
    }
   ],
   "source": [
    "for i,x in enumerate(L):   #enumerate看index\n",
    "    print(i,x)"
   ]
  },
  {
   "cell_type": "code",
   "execution_count": null,
   "metadata": {},
   "outputs": [],
   "source": [
    "#pdf to markdown"
   ]
  }
 ],
 "metadata": {
  "kernelspec": {
   "display_name": "Python 3",
   "language": "python",
   "name": "python3"
  }
 },
 "nbformat": 4,
 "nbformat_minor": 2
}
