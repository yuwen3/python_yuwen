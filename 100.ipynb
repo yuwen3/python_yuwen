{
 "cells": [
  {
   "cell_type": "code",
   "execution_count": null,
   "metadata": {},
   "outputs": [
    {
     "name": "stdout",
     "output_type": "stream",
     "text": [
      "1 10\n",
      "1 10 20\n",
      "10 1\n",
      "10 1 20\n",
      "100 200\n",
      "100 200 125\n",
      "201 210\n",
      "201 210 89\n",
      "900 1000\n",
      "900 1000 174\n"
     ]
    }
   ],
   "source": [
    "line=input().split()\n",
    "a,b=map(int,line)\n",
    "A=[]\n",
    "while True:    \n",
    "    if a>=b:\n",
    "        B =[]\n",
    "        for i in range(b+1,a):\n",
    "            A=[i]\n",
    "            while True:\n",
    "                if i==1:\n",
    "                    break\n",
    "                elif i%2==1:\n",
    "                    i=3*i+1\n",
    "                else:\n",
    "                    i =i//2\n",
    "                A.append(i)\n",
    "            B.append(len(A))\n",
    "        print(a,b,max(B))\n",
    "    else:\n",
    "        B =[]\n",
    "        for i in range(a+1,b):\n",
    "            A=[i]\n",
    "            while True:\n",
    "                if i==1:\n",
    "                    break\n",
    "                elif i%2==1:\n",
    "                    i=3*i+1\n",
    "                else:\n",
    "                    i =i//2\n",
    "                A.append(i)\n",
    "            B.append(len(A))\n",
    "        print(a,b,max(B))\n",
    "    line=input().split()\n",
    "    a,b=map(int,line)\n",
    "            "
   ]
  },
  {
   "cell_type": "code",
   "execution_count": null,
   "metadata": {},
   "outputs": [],
   "source": []
  }
 ],
 "metadata": {
  "kernelspec": {
   "display_name": "Python 3",
   "language": "python",
   "name": "python3"
  },
  "language_info": {
   "codemirror_mode": {
    "name": "ipython",
    "version": 3
   },
   "file_extension": ".py",
   "mimetype": "text/x-python",
   "name": "python",
   "nbconvert_exporter": "python",
   "pygments_lexer": "ipython3",
   "version": "3.7.3"
  }
 },
 "nbformat": 4,
 "nbformat_minor": 2
}
