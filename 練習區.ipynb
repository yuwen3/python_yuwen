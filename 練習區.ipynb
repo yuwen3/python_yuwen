{
 "cells": [
  {
   "cell_type": "code",
   "execution_count": 12,
   "metadata": {},
   "outputs": [
    {
     "name": "stdout",
     "output_type": "stream",
     "text": [
      "       *       \n",
      "      ***      \n",
      "     *****     \n",
      "    *******    \n",
      "   *********   \n",
      "  ***********  \n",
      " ************* \n"
     ]
    }
   ],
   "source": [
    "for i in range(1,15,2):\n",
    "    j ='*'*i\n",
    "    a=f\"{j:^15s}\"\n",
    "    print(a)"
   ]
  },
  {
   "cell_type": "code",
   "execution_count": 58,
   "metadata": {},
   "outputs": [
    {
     "name": "stdout",
     "output_type": "stream",
     "text": [
      "01 02 01 01 01 00 01 02 01\n",
      "02 01 00 02 01 00 02 01 00\n",
      "01 00 01 00 01 00 01 00 01\n",
      "01 02 00 01 02 00 01 02 00\n",
      "01 01 01 02 01 00 01 01 01\n",
      "00 00 00 00 00 00 00 00 00\n",
      "01 02 01 01 01 00 01 02 01\n",
      "02 01 00 02 01 00 02 01 00\n",
      "01 00 01 00 01 00 01 00 01\n"
     ]
    }
   ],
   "source": [
    "for i in range(1,10):\n",
    "    k =[]\n",
    "    for j in range(1,10):\n",
    "        if (i*j)%2 ==1:\n",
    "            s =1\n",
    "        else:\n",
    "            s =(i*j)%3\n",
    "        k.append(f'{str(s):0>2s}')\n",
    "    t =' '.join(k)\n",
    "    print(t)"
   ]
  },
  {
   "cell_type": "code",
   "execution_count": 61,
   "metadata": {},
   "outputs": [
    {
     "name": "stdout",
     "output_type": "stream",
     "text": [
      "xx 02 01 01 01 00 01 02 01\n",
      "02 xx 00 02 01 00 02 01 00\n",
      "01 00 xx 00 01 00 01 00 01\n",
      "01 02 00 xx 02 00 01 02 00\n",
      "01 01 01 02 xx 00 01 01 01\n",
      "00 00 00 00 00 xx 00 00 00\n",
      "01 02 01 01 01 00 xx 02 01\n",
      "02 01 00 02 01 00 02 xx 00\n",
      "01 00 01 00 01 00 01 00 xx\n"
     ]
    }
   ],
   "source": [
    "for i in range(1,10):\n",
    "    k =[]\n",
    "    for j in range(1,10):\n",
    "        if i ==j:\n",
    "            s ='xx'\n",
    "        elif (i*j)%2 ==1:\n",
    "            s =1\n",
    "        else:\n",
    "            s =(i*j)%3\n",
    "        k.append(f'{str(s):0>2s}')\n",
    "    t =' '.join(k)\n",
    "    print(t)"
   ]
  },
  {
   "cell_type": "code",
   "execution_count": 64,
   "metadata": {},
   "outputs": [
    {
     "name": "stdout",
     "output_type": "stream",
     "text": [
      "請輸入欲求的九九乘法方陣尺寸：5\n",
      "01 02 03 04 05\n",
      "02 04 06 08 10\n",
      "03 06 09 12 15\n",
      "04 08 12 16 20\n",
      "05 10 15 20 25\n"
     ]
    }
   ],
   "source": [
    "a =int(input('請輸入欲求的九九乘法方陣尺寸：'))\n",
    "\n",
    "for i in range(1,a+1):\n",
    "    k =[]\n",
    "    for j in range(1,a+1):\n",
    "        s=str(i*j)\n",
    "        k.append(f'{s:0>2s}')\n",
    "    t =' '.join(k)\n",
    "    print(t)"
   ]
  },
  {
   "cell_type": "code",
   "execution_count": 67,
   "metadata": {},
   "outputs": [
    {
     "name": "stdout",
     "output_type": "stream",
     "text": [
      "請輸入欲求的九九乘法矩陣之列數：6\n",
      "請輸入欲求的九九乘法矩陣之行數：9\n",
      "01 02 03 04 05 06 07 08 09\n",
      "02 04 06 08 10 12 14 16 18\n",
      "03 06 09 12 15 18 21 24 27\n",
      "04 08 12 16 20 24 28 32 36\n",
      "05 10 15 20 25 30 35 40 45\n",
      "06 12 18 24 30 36 42 48 54\n"
     ]
    }
   ],
   "source": [
    "a =int(input('請輸入欲求的九九乘法矩陣之列數：'))\n",
    "b =int(input('請輸入欲求的九九乘法矩陣之行數：'))\n",
    "\n",
    "for i in range(1,a+1):\n",
    "    k =[]\n",
    "    for j in range(1,b+1):\n",
    "        s=str(i*j)\n",
    "        k.append(f'{s:0>2s}')\n",
    "    t =' '.join(k)\n",
    "    print(t)"
   ]
  },
  {
   "cell_type": "code",
   "execution_count": 68,
   "metadata": {},
   "outputs": [
    {
     "name": "stdout",
     "output_type": "stream",
     "text": [
      "01 02 03 04 05 06 07 08\n",
      "02 04 06 08 10 12 14 16\n",
      "03 06 09 12 15 18 21 24\n",
      "04 08 12 16 20 24 28 32\n",
      "05 10 15 20 25 30 35 40\n",
      "06 12 18 24 30 36 42 48\n",
      "07 14 21 28 35 42 49 56\n",
      "08 16 24 32 40 48 56 64\n"
     ]
    }
   ],
   "source": [
    "for i in range(1,9):\n",
    "    k =[]\n",
    "    for j in range(1,9):\n",
    "        s =str(i*j)\n",
    "        k.append(f'{str(s):0>2s}')\n",
    "    t =' '.join(k)\n",
    "    print(t)"
   ]
  },
  {
   "cell_type": "code",
   "execution_count": 74,
   "metadata": {},
   "outputs": [
    {
     "name": "stdout",
     "output_type": "stream",
     "text": [
      "0000001 0000010 0000011 0000100 0000101 0000110 0000111 0001000\n",
      "0000010 0000100 0000110 0001000 0001010 0001100 0001110 0010000\n",
      "0000011 0000110 0001001 0001100 0001111 0010010 0010101 0011000\n",
      "0000100 0001000 0001100 0010000 0010100 0011000 0011100 0100000\n",
      "0000101 0001010 0001111 0010100 0011001 0011110 0100011 0101000\n",
      "0000110 0001100 0010010 0011000 0011110 0100100 0101010 0110000\n",
      "0000111 0001110 0010101 0011100 0100011 0101010 0110001 0111000\n",
      "0001000 0010000 0011000 0100000 0101000 0110000 0111000 1000000\n"
     ]
    }
   ],
   "source": [
    "for i in range(1,9):\n",
    "    k =[]\n",
    "    for j in range(1,9):\n",
    "        s =bin(i*j)\n",
    "        k.append(f'{str(s[2:]):0>7s}')\n",
    "    t =' '.join(k)\n",
    "    print(t)"
   ]
  },
  {
   "cell_type": "code",
   "execution_count": null,
   "metadata": {},
   "outputs": [],
   "source": []
  }
 ],
 "metadata": {
  "kernelspec": {
   "display_name": "Python 3",
   "language": "python",
   "name": "python3"
  },
  "language_info": {
   "codemirror_mode": {
    "name": "ipython",
    "version": 3
   },
   "file_extension": ".py",
   "mimetype": "text/x-python",
   "name": "python",
   "nbconvert_exporter": "python",
   "pygments_lexer": "ipython3",
   "version": "3.7.3"
  }
 },
 "nbformat": 4,
 "nbformat_minor": 2
}
