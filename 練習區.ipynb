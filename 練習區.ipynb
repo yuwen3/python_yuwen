{
 "cells": [
  {
   "cell_type": "code",
   "execution_count": 12,
   "metadata": {},
   "outputs": [
    {
     "name": "stdout",
     "output_type": "stream",
     "text": [
      "       *       \n",
      "      ***      \n",
      "     *****     \n",
      "    *******    \n",
      "   *********   \n",
      "  ***********  \n",
      " ************* \n"
     ]
    }
   ],
   "source": [
    "for i in range(1,15,2):\n",
    "    j ='*'*i\n",
    "    a=f\"{j:^15s}\"\n",
    "    print(a)"
   ]
  },
  {
   "cell_type": "code",
   "execution_count": 3,
   "metadata": {},
   "outputs": [
    {
     "name": "stdout",
     "output_type": "stream",
     "text": [
      "01 00 01 01 01 02 01 02 01\n",
      "00 01 02 02 03 04 04 05 06\n",
      "01 02 01 04 01 06 01 08 01\n",
      "01 02 04 05 06 08 09 10 12\n",
      "01 03 01 06 01 10 01 13 01\n",
      "02 04 06 08 10 12 14 16 18\n",
      "01 04 01 09 01 14 01 18 01\n",
      "02 05 08 10 13 16 18 21 24\n",
      "01 06 01 12 01 18 01 24 01\n"
     ]
    }
   ],
   "source": [
    "for i in range(1,10):\n",
    "    k =[]\n",
    "    for j in range(1,10):\n",
    "        if (i*j)%2 ==1:\n",
    "            s =1\n",
    "        else:\n",
    "            s =(i*j)//3\n",
    "        k.append(f'{str(s):0>2s}')\n",
    "    t =' '.join(k)\n",
    "    print(t)"
   ]
  },
  {
   "cell_type": "code",
   "execution_count": 4,
   "metadata": {},
   "outputs": [
    {
     "name": "stdout",
     "output_type": "stream",
     "text": [
      "xx 00 01 01 01 02 01 02 01\n",
      "00 xx 02 02 03 04 04 05 06\n",
      "01 02 xx 04 01 06 01 08 01\n",
      "01 02 04 xx 06 08 09 10 12\n",
      "01 03 01 06 xx 10 01 13 01\n",
      "02 04 06 08 10 xx 14 16 18\n",
      "01 04 01 09 01 14 xx 18 01\n",
      "02 05 08 10 13 16 18 xx 24\n",
      "01 06 01 12 01 18 01 24 xx\n"
     ]
    }
   ],
   "source": [
    "for i in range(1,10):\n",
    "    k =[]\n",
    "    for j in range(1,10):\n",
    "        if i ==j:\n",
    "            s ='xx'\n",
    "        elif (i*j)%2 ==1:\n",
    "            s =1\n",
    "        else:\n",
    "            s =(i*j)//3\n",
    "        k.append(f'{str(s):0>2s}')\n",
    "    t =' '.join(k)\n",
    "    print(t)"
   ]
  },
  {
   "cell_type": "code",
   "execution_count": 64,
   "metadata": {},
   "outputs": [
    {
     "name": "stdout",
     "output_type": "stream",
     "text": [
      "請輸入欲求的九九乘法方陣尺寸：5\n",
      "01 02 03 04 05\n",
      "02 04 06 08 10\n",
      "03 06 09 12 15\n",
      "04 08 12 16 20\n",
      "05 10 15 20 25\n"
     ]
    }
   ],
   "source": [
    "a =int(input('請輸入欲求的九九乘法方陣尺寸：'))\n",
    "\n",
    "for i in range(1,a+1):\n",
    "    k =[]\n",
    "    for j in range(1,a+1):\n",
    "        s=str(i*j)\n",
    "        k.append(f'{s:0>2s}')\n",
    "    t =' '.join(k)\n",
    "    print(t)"
   ]
  },
  {
   "cell_type": "code",
   "execution_count": 67,
   "metadata": {},
   "outputs": [
    {
     "name": "stdout",
     "output_type": "stream",
     "text": [
      "請輸入欲求的九九乘法矩陣之列數：6\n",
      "請輸入欲求的九九乘法矩陣之行數：9\n",
      "01 02 03 04 05 06 07 08 09\n",
      "02 04 06 08 10 12 14 16 18\n",
      "03 06 09 12 15 18 21 24 27\n",
      "04 08 12 16 20 24 28 32 36\n",
      "05 10 15 20 25 30 35 40 45\n",
      "06 12 18 24 30 36 42 48 54\n"
     ]
    }
   ],
   "source": [
    "a =int(input('請輸入欲求的九九乘法矩陣之列數：'))\n",
    "b =int(input('請輸入欲求的九九乘法矩陣之行數：'))\n",
    "\n",
    "for i in range(1,a+1):\n",
    "    k =[]\n",
    "    for j in range(1,b+1):\n",
    "        s=str(i*j)\n",
    "        k.append(f'{s:0>2s}')\n",
    "    t =' '.join(k)\n",
    "    print(t)"
   ]
  },
  {
   "cell_type": "code",
   "execution_count": 11,
   "metadata": {},
   "outputs": [
    {
     "name": "stdout",
     "output_type": "stream",
     "text": [
      "請輸入欲求的九九乘法矩陣之列數：9\n",
      "請輸入欲求的九九乘法矩陣之行數：5\n",
      "01 02 03 04 05 xx xx xx xx\n",
      "02 04 06 08 10 xx xx xx xx\n",
      "03 06 09 12 15 xx xx xx xx\n",
      "04 08 12 16 20 xx xx xx xx\n",
      "05 10 15 20 25 xx xx xx xx\n",
      "06 12 18 24 30 xx xx xx xx\n",
      "07 14 21 28 35 xx xx xx xx\n",
      "08 16 24 32 40 xx xx xx xx\n",
      "09 18 27 36 45 xx xx xx xx\n"
     ]
    }
   ],
   "source": [
    "a =int(input('請輸入欲求的九九乘法矩陣之列數：'))\n",
    "b =int(input('請輸入欲求的九九乘法矩陣之行數：'))\n",
    "\n",
    "if a>b:\n",
    "    c =a\n",
    "elif a<b:\n",
    "    c=b\n",
    "else:\n",
    "    c=a\n",
    "for i in range(1,c+1):\n",
    "    k =[]\n",
    "    for j in range(1,c+1):\n",
    "        s = str(i*j)\n",
    "        if (i > a) or (j>b):\n",
    "            s='xx'\n",
    "        k.append(f'{s:0>2s}')\n",
    "    t =' '.join(k)\n",
    "    print(t)"
   ]
  },
  {
   "cell_type": "code",
   "execution_count": 85,
   "metadata": {},
   "outputs": [
    {
     "name": "stdout",
     "output_type": "stream",
     "text": [
      "126 125 124 123 122 121 120 119 118 117 116 115 114 113 112 111 110 109 108 107 106 105 104 103 102 101 100 099 098 097 096 095 094 093 092 091 090 089 088 087 086 085 084 083 082 081 080 079 078 077 076 075 074 073 072 071 070 069 068 067 066 065 064 063\n"
     ]
    }
   ],
   "source": [
    "l=[]\n",
    "for i in range(8):\n",
    "    k =[]\n",
    "    for j in range(8):\n",
    "        s =(j+1)+8*i\n",
    "        k.append(f'{bin(s)[2:]:0>7s}')\n",
    "    t=' '.join(k)\n",
    "    r = []\n",
    "    for j in range(len(t)):\n",
    "        if t[j]=='0':\n",
    "            r.append('1')\n",
    "        elif t[j]== ' ':\n",
    "            r.append(' ')\n",
    "        else:\n",
    "            r.append('0')\n",
    "    w=''.join(r)\n",
    "    k =w.split(' ')\n",
    "    b=[]\n",
    "    for a in k:\n",
    "        x ='0b'+a\n",
    "        b.append(x)\n",
    "        \n",
    "    e = []\n",
    "    for y in b:\n",
    "        z =int(y,2)\n",
    "        e.append(f'{str(z):0>3s}')\n",
    "    h=' '.join(e)\n",
    "    l.append(h)\n",
    "' '.join(l)\n",
    "print(' '.join(l))\n",
    "\n",
    "    "
   ]
  },
  {
   "cell_type": "code",
   "execution_count": 92,
   "metadata": {},
   "outputs": [
    {
     "name": "stdout",
     "output_type": "stream",
     "text": [
      "sequence subsequence\n",
      "Yes\n"
     ]
    }
   ],
   "source": [
    "line =input().split()\n",
    "a,b = map( str,line)\n",
    "\n",
    "if a in b:                        #10340\n",
    "    print('Yes')\n",
    "else:\n",
    "    print('Ｎo')"
   ]
  },
  {
   "cell_type": "code",
   "execution_count": 96,
   "metadata": {},
   "outputs": [
    {
     "name": "stdout",
     "output_type": "stream",
     "text": [
      "2\n",
      "1\n",
      "5\n",
      "9\n",
      "3\n",
      "5\n",
      "8\n"
     ]
    }
   ],
   "source": [
    "c =int(input())    \n",
    "\n",
    "while c>0:\n",
    "    c=c-1\n",
    "    linea =int(input())\n",
    "    lineb =int(input())\n",
    "    j=0\n",
    "    for i in range(linea,lineb+1):         #10783\n",
    "        if i%2 == 1:\n",
    "            j += i\n",
    "        \n",
    "    print(j)\n"
   ]
  },
  {
   "cell_type": "code",
   "execution_count": null,
   "metadata": {},
   "outputs": [],
   "source": [
    "a = int(input())\n",
    "\n",
    "if i>10**1000:\n",
    "    print(\"你的資料太大了！請重新輸入\")\n",
    "    "
   ]
  },
  {
   "cell_type": "code",
   "execution_count": 98,
   "metadata": {},
   "outputs": [
    {
     "name": "stdout",
     "output_type": "stream",
     "text": [
      "112233\n",
      "112233 is a multiple of 11\n"
     ]
    }
   ],
   "source": [
    "a = int(input())\n",
    "    \n",
    "while a >10**1000:\n",
    "    print(\"你的資料太大了！請重新輸入\")\n",
    "    a = int(input())\n",
    "\n",
    "if a%11 ==0:\n",
    "    print(\"{0} is a multiple of 11\".format(a))\n",
    "else:\n",
    "    print(a, \"is not a multiple of 11\")\n"
   ]
  },
  {
   "cell_type": "code",
   "execution_count": 103,
   "metadata": {},
   "outputs": [
    {
     "name": "stdout",
     "output_type": "stream",
     "text": [
      "112233\n",
      "112233 is a multiple of 11\n",
      "30800\n",
      "30800 is a multiple of 11\n",
      "2937\n",
      "2937 is a multiple of 11\n",
      "323455693\n",
      "323455693 is a multiple of 11\n",
      "5038297\n",
      "5038297 is a multiple of 11\n",
      "112234\n",
      "112234 is not a multiple of 11\n",
      "0\n"
     ]
    }
   ],
   "source": [
    "a = int(input())\n",
    "    \n",
    "while 0 < a < 10**1000:\n",
    "    if a%11 ==0:\n",
    "        print(\"{0} is a multiple of 11\".format(a))      #10929\n",
    "    else:\n",
    "        print(a, \"is not a multiple of 11\")\n",
    "\n",
    "    a = int(input())"
   ]
  },
  {
   "cell_type": "code",
   "execution_count": null,
   "metadata": {},
   "outputs": [
    {
     "name": "stdout",
     "output_type": "stream",
     "text": [
      "10 12\n",
      "2\n",
      "14 10\n",
      "4\n",
      "100 200\n",
      "100\n"
     ]
    }
   ],
   "source": [
    "line =input().split()\n",
    "a,b = map( int,line)\n",
    "\n",
    "while True:\n",
    "    if a>=b:\n",
    "        print(a-b)\n",
    "    else:\n",
    "        print(b-a)\n",
    "    line =input().split()\n",
    "    a,b = map( int,line)"
   ]
  },
  {
   "cell_type": "code",
   "execution_count": 6,
   "metadata": {},
   "outputs": [
    {
     "name": "stdout",
     "output_type": "stream",
     "text": [
      "45\n"
     ]
    }
   ],
   "source": [
    "j=0\n",
    "for i in range(10):\n",
    "    j=j+i\n",
    "print(j)"
   ]
  },
  {
   "cell_type": "code",
   "execution_count": 7,
   "metadata": {},
   "outputs": [],
   "source": [
    "T={1:[],2:[6,7],3:[1,4],4:[],5:[3,2],6:[],7:[]}"
   ]
  },
  {
   "cell_type": "code",
   "execution_count": 8,
   "metadata": {},
   "outputs": [
    {
     "data": {
      "text/plain": [
       "[6, 7]"
      ]
     },
     "execution_count": 8,
     "metadata": {},
     "output_type": "execute_result"
    }
   ],
   "source": [
    "T[2]"
   ]
  },
  {
   "cell_type": "code",
   "execution_count": 8,
   "metadata": {},
   "outputs": [
    {
     "name": "stdout",
     "output_type": "stream",
     "text": [
      "7\n",
      "0\n",
      "2 6 7\n",
      "2 1 4\n",
      "0\n",
      "2 3 2\n",
      "0\n",
      "0\n",
      "[5]\n",
      "4\n"
     ]
    }
   ],
   "source": [
    "n = int(input())\n",
    "T={}\n",
    "root =list(range(1,n+1))\n",
    "\n",
    "for i in range(1,n+1):\n",
    "    line = input().split()\n",
    "    n_line =list(map (int,line))[1:]\n",
    "    T[i] =n_line\n",
    "    for k in n_line:\n",
    "        root.remove(k)\n",
    "print(root)\n",
    "\n",
    "def h(v):\n",
    "    c_nodes =T[v]\n",
    "    if c_nodes ==[]:\n",
    "        return 0\n",
    "    return max(map(h,c_nodes))+1    #也可以加else\n",
    "print(sum(map(h,range(1,n+1))))\n",
    "    "
   ]
  },
  {
   "cell_type": "code",
   "execution_count": 11,
   "metadata": {},
   "outputs": [
    {
     "data": {
      "text/plain": [
       "{1: [], 2: [6, 7], 3: [1, 4], 4: [], 5: [3, 2], 6: [], 7: []}"
      ]
     },
     "execution_count": 11,
     "metadata": {},
     "output_type": "execute_result"
    }
   ],
   "source": [
    "T"
   ]
  },
  {
   "cell_type": "code",
   "execution_count": 34,
   "metadata": {},
   "outputs": [
    {
     "name": "stdout",
     "output_type": "stream",
     "text": [
      "[5]\n"
     ]
    }
   ],
   "source": [
    "L=list(range(1,n+1))\n",
    "\n",
    "for i in range(1,n+1):\n",
    "    for j in T[i]:\n",
    "        L.remove(j)\n",
    "print(L)        "
   ]
  },
  {
   "cell_type": "code",
   "execution_count": 7,
   "metadata": {},
   "outputs": [
    {
     "ename": "NameError",
     "evalue": "name 'c_node' is not defined",
     "output_type": "error",
     "traceback": [
      "\u001b[1;31m---------------------------------------------------------------------------\u001b[0m",
      "\u001b[1;31mNameError\u001b[0m                                 Traceback (most recent call last)",
      "\u001b[1;32m<ipython-input-7-5669a04f092e>\u001b[0m in \u001b[0;36m<module>\u001b[1;34m()\u001b[0m\n\u001b[1;32m----> 1\u001b[1;33m \u001b[0mh\u001b[0m\u001b[1;33m(\u001b[0m\u001b[1;36m5\u001b[0m\u001b[1;33m)\u001b[0m\u001b[1;33m\u001b[0m\u001b[0m\n\u001b[0m",
      "\u001b[1;32m<ipython-input-4-0197547f6f4a>\u001b[0m in \u001b[0;36mh\u001b[1;34m(v)\u001b[0m\n\u001b[0;32m     15\u001b[0m     \u001b[1;32mif\u001b[0m \u001b[0mc_nodes\u001b[0m \u001b[1;33m==\u001b[0m\u001b[1;33m[\u001b[0m\u001b[1;33m]\u001b[0m\u001b[1;33m:\u001b[0m\u001b[1;33m\u001b[0m\u001b[0m\n\u001b[0;32m     16\u001b[0m         \u001b[1;32mreturn\u001b[0m \u001b[1;36m0\u001b[0m\u001b[1;33m\u001b[0m\u001b[0m\n\u001b[1;32m---> 17\u001b[1;33m     \u001b[1;32mreturn\u001b[0m \u001b[0mmax\u001b[0m\u001b[1;33m(\u001b[0m\u001b[0mmap\u001b[0m\u001b[1;33m(\u001b[0m\u001b[0mh\u001b[0m\u001b[1;33m,\u001b[0m\u001b[0mc_node\u001b[0m\u001b[1;33m)\u001b[0m\u001b[1;33m)\u001b[0m\u001b[1;33m+\u001b[0m\u001b[1;36m1\u001b[0m\u001b[1;33m\u001b[0m\u001b[0m\n\u001b[0m",
      "\u001b[1;31mNameError\u001b[0m: name 'c_node' is not defined"
     ]
    }
   ],
   "source": [
    "h(5)"
   ]
  },
  {
   "cell_type": "code",
   "execution_count": null,
   "metadata": {},
   "outputs": [],
   "source": []
  }
 ],
 "metadata": {
  "kernelspec": {
   "display_name": "Python 3",
   "language": "python",
   "name": "python3"
  },
  "language_info": {
   "codemirror_mode": {
    "name": "ipython",
    "version": 3
   },
   "file_extension": ".py",
   "mimetype": "text/x-python",
   "name": "python",
   "nbconvert_exporter": "python",
   "pygments_lexer": "ipython3",
   "version": "3.6.6"
  }
 },
 "nbformat": 4,
 "nbformat_minor": 2
}
