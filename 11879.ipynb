{
 "cells": [
  {
   "cell_type": "markdown",
   "metadata": {},
   "source": [
    "### Q11879:  Multiple of 17\n",
    "\n",
    "定理：若且唯若，移除一個大於等於10的整數 n 的最後一個位數 d，其值再減去5d之後，若為17的倍數，則 n 亦為17的倍數。\n",
    "\n",
    "例如：34為17的倍數，因為3-20=-17為17的倍數；201非17的倍數，因為20-5=15非17的倍數。\n",
    "\n",
    "給定一正整數 n，請你判斷 n 是否為17的倍數。\n",
    "Input\n",
    "\n",
    "最多有十組測試資料，每組一列為一個整數  n ( 1 <= n <= 10100)，當 n = 0表示資料結束。\n",
    "Output\n",
    "\n",
    "若為 17 的倍數請輸出 1，否則請輸出 0。"
   ]
  },
  {
   "cell_type": "code",
   "execution_count": 1,
   "metadata": {},
   "outputs": [
    {
     "name": "stdout",
     "output_type": "stream",
     "text": [
      "34\n",
      "1\n",
      "201\n",
      "0\n",
      "2098765413\n",
      "1\n",
      "1717171717171717171717171717171717171717171717171718\n",
      "0\n",
      "0\n"
     ]
    }
   ],
   "source": [
    "def f(x):\n",
    "    y =(x//10)-(5*(x%10))\n",
    "    return y\n",
    "\n",
    "while True:\n",
    "    n =int(input())\n",
    "    if n==0:\n",
    "        break\n",
    "    elif f(n)%17 ==0:\n",
    "        print(\"1\")\n",
    "    else:\n",
    "        print(\"0\")"
   ]
  },
  {
   "cell_type": "code",
   "execution_count": null,
   "metadata": {},
   "outputs": [],
   "source": []
  }
 ],
 "metadata": {
  "kernelspec": {
   "display_name": "Python 3",
   "language": "python",
   "name": "python3"
  },
  "language_info": {
   "codemirror_mode": {
    "name": "ipython",
    "version": 3
   },
   "file_extension": ".py",
   "mimetype": "text/x-python",
   "name": "python",
   "nbconvert_exporter": "python",
   "pygments_lexer": "ipython3",
   "version": "3.7.3"
  }
 },
 "nbformat": 4,
 "nbformat_minor": 2
}
