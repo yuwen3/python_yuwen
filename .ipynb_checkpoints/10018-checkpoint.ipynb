{
 "cells": [
  {
   "cell_type": "markdown",
   "metadata": {},
   "source": [
    "### Q10018: Reverse and Add\n",
    "把一個數字反轉並相加的方法很簡單：就是把數字反轉並加上原來的數字。假如這個和不是一個迴文（指這個數字從左到右和從右到左都相同），就一直重複這個程序。舉例說明：\n",
    "\n",
    "195 開始的數字\n",
    "591\n",
    "-----\n",
    "786\n",
    "687\n",
    "-----\n",
    "1473\n",
    "3741\n",
    "-----\n",
    "5214\n",
    "4125\n",
    "-----\n",
    "9339 迴文出現了\n",
    "\n",
    "在這個例子中，經過了4次相加後得到了迴文9339。幾乎對所有的整數這個方法都會得到迴文，但是也有有趣的例外。196是第1個用這個方法找不到迴文的數字，然而並沒有證明該迴文不存在。\n",
    "\n",
    "現在給你一個開始的數字，你的任務就是求出經過多少次相加後，會產生哪一個迴文。對所有的測試資料，你可以假設：1. 都會有1個答案。2. 在1000個相加內都會得到答案。 3. 產生的迴文不會大於4294967295.\n",
    "\n",
    "Input\n",
    "\n",
    "第1列有一個整數N（0 < N <= 100），代表以下有幾組測試資料。每筆測試資料一列，各有1個整數 P，就是開始的數字。\n",
    "\n",
    "Output\n",
    "\n",
    "對每一測試資料，請輸出2個數字：得到迴文所需的最少次數的相加，以及該迴文。"
   ]
  },
  {
   "cell_type": "code",
   "execution_count": null,
   "metadata": {},
   "outputs": [
    {
     "name": "stdout",
     "output_type": "stream",
     "text": [
      "5\n",
      "195\n",
      "4 9339\n",
      "265\n",
      "5 45254\n",
      "750\n",
      "3 6666\n",
      "2\n",
      "1 4\n",
      "99\n",
      "6 79497\n"
     ]
    }
   ],
   "source": [
    "n =int(input())\n",
    "inpt =str(input())\n",
    "inptnew =int(inpt)\n",
    "inpt1 =int(inpt[::-1])\n",
    "ans =str(inptnew+inpt1)\n",
    "ansnew =int(ans)\n",
    "ans1 =int(ans[::-1])\n",
    "\n",
    "for i in range(n):\n",
    "    i =i-1\n",
    "    j =1\n",
    "    while ansnew !=ans1:\n",
    "        j =j+1\n",
    "        ans=str(ansnew+ans1)\n",
    "        ansnew =int(ans)\n",
    "        ans1 =int(ans[::-1])\n",
    "    print(j,ans)\n",
    "        \n",
    "    inpt =str(input())\n",
    "    inptnew =int(inpt)\n",
    "    inpt1 =int(inpt[::-1])\n",
    "    ans =str(inptnew+inpt1)\n",
    "    ansnew =int(ans)\n",
    "    ans1 =int(ans[::-1])"
   ]
  },
  {
   "cell_type": "code",
   "execution_count": null,
   "metadata": {},
   "outputs": [],
   "source": []
  }
 ],
 "metadata": {
  "kernelspec": {
   "display_name": "Python 3",
   "language": "python",
   "name": "python3"
  },
  "language_info": {
   "codemirror_mode": {
    "name": "ipython",
    "version": 3
   },
   "file_extension": ".py",
   "mimetype": "text/x-python",
   "name": "python",
   "nbconvert_exporter": "python",
   "pygments_lexer": "ipython3",
   "version": "3.7.3"
  }
 },
 "nbformat": 4,
 "nbformat_minor": 2
}
