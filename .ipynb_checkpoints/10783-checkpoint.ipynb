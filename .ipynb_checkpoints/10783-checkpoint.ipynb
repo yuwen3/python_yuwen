{
 "cells": [
  {
   "cell_type": "code",
   "execution_count": 1,
   "metadata": {},
   "outputs": [
    {
     "name": "stdout",
     "output_type": "stream",
     "text": [
      "2\n",
      "1\n",
      "5\n",
      "9\n",
      "3\n",
      "5\n",
      "8\n"
     ]
    }
   ],
   "source": [
    "c =int(input())    \n",
    "\n",
    "while c>0:\n",
    "    c=c-1\n",
    "    linea =int(input())\n",
    "    lineb =int(input())\n",
    "    j=0\n",
    "    for i in range(linea,lineb+1):         \n",
    "        if i%2 == 1:\n",
    "            j += i\n",
    "        \n",
    "    print(j)\n"
   ]
  },
  {
   "cell_type": "code",
   "execution_count": null,
   "metadata": {},
   "outputs": [],
   "source": []
  }
 ],
 "metadata": {
  "kernelspec": {
   "display_name": "Python 3",
   "language": "python",
   "name": "python3"
  },
  "language_info": {
   "codemirror_mode": {
    "name": "ipython",
    "version": 3
   },
   "file_extension": ".py",
   "mimetype": "text/x-python",
   "name": "python",
   "nbconvert_exporter": "python",
   "pygments_lexer": "ipython3",
   "version": "3.7.3"
  }
 },
 "nbformat": 4,
 "nbformat_minor": 2
}
