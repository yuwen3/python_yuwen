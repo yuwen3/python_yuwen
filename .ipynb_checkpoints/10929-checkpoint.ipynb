{
 "cells": [
  {
   "cell_type": "code",
   "execution_count": 1,
   "metadata": {},
   "outputs": [
    {
     "name": "stdout",
     "output_type": "stream",
     "text": [
      "112233\n",
      "112233 is a multiple of 11\n",
      "30800\n",
      "30800 is a multiple of 11\n",
      "2937\n",
      "2937 is a multiple of 11\n",
      "323455693\n",
      "323455693 is a multiple of 11\n",
      "5038297\n",
      "5038297 is a multiple of 11\n",
      "112234\n",
      "112234 is not a multiple of 11\n",
      "0\n"
     ]
    }
   ],
   "source": [
    "a = int(input())\n",
    "    \n",
    "while 0 < a < 10**1000:\n",
    "    if a%11 ==0:\n",
    "        print(\"{0} is a multiple of 11\".format(a))      #10929\n",
    "    else:\n",
    "        print(a, \"is not a multiple of 11\")\n",
    "\n",
    "    a = int(input())"
   ]
  },
  {
   "cell_type": "code",
   "execution_count": null,
   "metadata": {},
   "outputs": [],
   "source": []
  }
 ],
 "metadata": {
  "kernelspec": {
   "display_name": "Python 3",
   "language": "python",
   "name": "python3"
  },
  "language_info": {
   "codemirror_mode": {
    "name": "ipython",
    "version": 3
   },
   "file_extension": ".py",
   "mimetype": "text/x-python",
   "name": "python",
   "nbconvert_exporter": "python",
   "pygments_lexer": "ipython3",
   "version": "3.7.3"
  }
 },
 "nbformat": 4,
 "nbformat_minor": 2
}
