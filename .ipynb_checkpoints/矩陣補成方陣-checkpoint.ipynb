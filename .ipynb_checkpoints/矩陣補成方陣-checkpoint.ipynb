{
 "cells": [
  {
   "cell_type": "code",
   "execution_count": 1,
   "metadata": {},
   "outputs": [
    {
     "name": "stdout",
     "output_type": "stream",
     "text": [
      "請輸入欲求的九九乘法矩陣之列數：9\n",
      "請輸入欲求的九九乘法矩陣之行數：5\n",
      "01 02 03 04 05 xx xx xx xx\n",
      "02 04 06 08 10 xx xx xx xx\n",
      "03 06 09 12 15 xx xx xx xx\n",
      "04 08 12 16 20 xx xx xx xx\n",
      "05 10 15 20 25 xx xx xx xx\n",
      "06 12 18 24 30 xx xx xx xx\n",
      "07 14 21 28 35 xx xx xx xx\n",
      "08 16 24 32 40 xx xx xx xx\n",
      "09 18 27 36 45 xx xx xx xx\n"
     ]
    }
   ],
   "source": [
    "a =int(input('請輸入欲求的九九乘法矩陣之列數：'))\n",
    "b =int(input('請輸入欲求的九九乘法矩陣之行數：'))\n",
    "\n",
    "if a>b:\n",
    "    c =a\n",
    "elif a<b:\n",
    "    c=b\n",
    "else:\n",
    "    c=a\n",
    "for i in range(1,c+1):\n",
    "    k =[]\n",
    "    for j in range(1,c+1):\n",
    "        s = str(i*j)\n",
    "        if (i > a) or (j>b):\n",
    "            s='xx'\n",
    "        k.append(f'{s:0>2s}')\n",
    "    t =' '.join(k)\n",
    "    print(t)"
   ]
  },
  {
   "cell_type": "code",
   "execution_count": null,
   "metadata": {},
   "outputs": [],
   "source": []
  }
 ],
 "metadata": {
  "kernelspec": {
   "display_name": "Python 3",
   "language": "python",
   "name": "python3"
  },
  "language_info": {
   "codemirror_mode": {
    "name": "ipython",
    "version": 3
   },
   "file_extension": ".py",
   "mimetype": "text/x-python",
   "name": "python",
   "nbconvert_exporter": "python",
   "pygments_lexer": "ipython3",
   "version": "3.7.3"
  }
 },
 "nbformat": 4,
 "nbformat_minor": 2
}
