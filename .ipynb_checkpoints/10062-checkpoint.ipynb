{
 "cells": [
  {
   "cell_type": "markdown",
   "metadata": {},
   "source": [
    "### Q10062: Tell me the frequencies!\n",
    "給你一列文字，請你找出各字元出現的次數。\n",
    "\n",
    "Input\n",
    "\n",
    "每筆測試資料一列。每列最大長度為1000。\n",
    "\n",
    "Output\n",
    "\n",
    "對每一列輸入，請輸出各字元的ASCII值及其出現的次數。請根據出現的次數由小到大輸出。如果有2個以上的字元有相同的次數，則ASCII值較大的先輸出。\n",
    "\n",
    "測試資料間請空一列，參考Sample Output"
   ]
  },
  {
   "cell_type": "code",
   "execution_count": 2,
   "metadata": {},
   "outputs": [
    {
     "name": "stdout",
     "output_type": "stream",
     "text": [
      "AAABBC\n",
      "67 1\n",
      "66 2\n",
      "65 3\n"
     ]
    }
   ],
   "source": [
    "inpt =input()            #10062\n",
    "asci =dict()\n",
    "for i in inpt:\n",
    "    if ord(i) not in asci:\n",
    "        asci.update({ord(i):1})\n",
    "    else:\n",
    "        asci[ord(i)]=asci[ord(i)]+1\n",
    "for a,b in sorted(asci.items(),key =lambda d:d[1]):\n",
    "    print(a,b)"
   ]
  },
  {
   "cell_type": "code",
   "execution_count": null,
   "metadata": {},
   "outputs": [],
   "source": []
  }
 ],
 "metadata": {
  "kernelspec": {
   "display_name": "Python 3",
   "language": "python",
   "name": "python3"
  },
  "language_info": {
   "codemirror_mode": {
    "name": "ipython",
    "version": 3
   },
   "file_extension": ".py",
   "mimetype": "text/x-python",
   "name": "python",
   "nbconvert_exporter": "python",
   "pygments_lexer": "ipython3",
   "version": "3.7.3"
  }
 },
 "nbformat": 4,
 "nbformat_minor": 2
}
