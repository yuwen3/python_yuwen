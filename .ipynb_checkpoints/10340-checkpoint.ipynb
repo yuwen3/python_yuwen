{
 "cells": [
  {
   "cell_type": "code",
   "execution_count": null,
   "metadata": {},
   "outputs": [
    {
     "name": "stdout",
     "output_type": "stream",
     "text": [
      "abc abc\n",
      "Yes\n",
      "sequence subsequence\n",
      "Yes\n",
      "person compression\n",
      "No\n",
      "VERDI vivaVittorioEmanueleReDiItalia\n",
      "Yes\n",
      "caseDoesMatter CaseDoesMatter\n",
      "No\n"
     ]
    }
   ],
   "source": [
    "line =input().split()\n",
    "a,b = map( str,line)\n",
    "\n",
    "while True:\n",
    "    A =[]\n",
    "    for i in range(len(a)):\n",
    "        ans = -1\n",
    "        for j in range(len(b)):\n",
    "            if b[j]==a[i]:\n",
    "                ans = j\n",
    "                break\n",
    "\n",
    "        if ans > -1:\n",
    "            A.append(a[i])\n",
    "        b = b[j+1:]\n",
    "    B=''.join(A)\n",
    "    if B==a:\n",
    "        print(\"Yes\")\n",
    "    else:\n",
    "        print(\"No\")\n",
    "    line =input().split()\n",
    "    a,b = map( str,line)"
   ]
  },
  {
   "cell_type": "code",
   "execution_count": null,
   "metadata": {},
   "outputs": [],
   "source": []
  }
 ],
 "metadata": {
  "kernelspec": {
   "display_name": "Python 3",
   "language": "python",
   "name": "python3"
  },
  "language_info": {
   "codemirror_mode": {
    "name": "ipython",
    "version": 3
   },
   "file_extension": ".py",
   "mimetype": "text/x-python",
   "name": "python",
   "nbconvert_exporter": "python",
   "pygments_lexer": "ipython3",
   "version": "3.7.3"
  }
 },
 "nbformat": 4,
 "nbformat_minor": 2
}
