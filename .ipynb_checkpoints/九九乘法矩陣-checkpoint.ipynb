{
 "cells": [
  {
   "cell_type": "code",
   "execution_count": 1,
   "metadata": {},
   "outputs": [
    {
     "name": "stdout",
     "output_type": "stream",
     "text": [
      "請輸入欲求的九九乘法矩陣之列數：8\n",
      "請輸入欲求的九九乘法矩陣之行數：6\n",
      "01 02 03 04 05 06\n",
      "02 04 06 08 10 12\n",
      "03 06 09 12 15 18\n",
      "04 08 12 16 20 24\n",
      "05 10 15 20 25 30\n",
      "06 12 18 24 30 36\n",
      "07 14 21 28 35 42\n",
      "08 16 24 32 40 48\n"
     ]
    }
   ],
   "source": [
    "a =int(input('請輸入欲求的九九乘法矩陣之列數：'))\n",
    "b =int(input('請輸入欲求的九九乘法矩陣之行數：'))\n",
    "\n",
    "for i in range(1,a+1):\n",
    "    k =[]\n",
    "    for j in range(1,b+1):\n",
    "        s=str(i*j)\n",
    "        k.append(f'{s:0>2s}')\n",
    "    t =' '.join(k)\n",
    "    print(t)"
   ]
  },
  {
   "cell_type": "code",
   "execution_count": null,
   "metadata": {},
   "outputs": [],
   "source": []
  }
 ],
 "metadata": {
  "kernelspec": {
   "display_name": "Python 3",
   "language": "python",
   "name": "python3"
  },
  "language_info": {
   "codemirror_mode": {
    "name": "ipython",
    "version": 3
   },
   "file_extension": ".py",
   "mimetype": "text/x-python",
   "name": "python",
   "nbconvert_exporter": "python",
   "pygments_lexer": "ipython3",
   "version": "3.7.3"
  }
 },
 "nbformat": 4,
 "nbformat_minor": 2
}
