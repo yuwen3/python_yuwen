{
 "cells": [
  {
   "cell_type": "markdown",
   "metadata": {},
   "source": [
    "### 查詢費氏數列第n項\n",
    "\n",
    "#### 輸入你想要幾項費氏數列，即可條列出所有項，並列出最後一項"
   ]
  },
  {
   "cell_type": "code",
   "execution_count": 3,
   "metadata": {},
   "outputs": [
    {
     "name": "stdout",
     "output_type": "stream",
     "text": [
      "輸入你想要幾項費氏數列：20\n",
      "[1, 1, 2, 3, 5, 8, 13, 21, 34, 55, 89, 144, 233, 377, 610, 987, 1597, 2584, 4181, 6765]\n",
      "第20項費氏數列6765\n"
     ]
    }
   ],
   "source": [
    "def f(x):\n",
    "    if x==1:\n",
    "        return 1\n",
    "    elif x== 2:\n",
    "        return 1\n",
    "    else:\n",
    "        return f(x-1)+f(x-2)\n",
    "key =int(input(\"輸入你想要幾項費氏數列：\"))\n",
    "A=[]\n",
    "for i in range(1,key+1):\n",
    "    f(i)\n",
    "    A.append(f(i))\n",
    "print(A)\n",
    "print(f'第{key}項費氏數列{f(i)}')"
   ]
  },
  {
   "cell_type": "code",
   "execution_count": null,
   "metadata": {},
   "outputs": [],
   "source": []
  }
 ],
 "metadata": {
  "kernelspec": {
   "display_name": "Python 3",
   "language": "python",
   "name": "python3"
  },
  "language_info": {
   "codemirror_mode": {
    "name": "ipython",
    "version": 3
   },
   "file_extension": ".py",
   "mimetype": "text/x-python",
   "name": "python",
   "nbconvert_exporter": "python",
   "pygments_lexer": "ipython3",
   "version": "3.7.3"
  }
 },
 "nbformat": 4,
 "nbformat_minor": 2
}
