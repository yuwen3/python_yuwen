{
 "cells": [
  {
   "cell_type": "code",
   "execution_count": null,
   "metadata": {},
   "outputs": [
    {
     "name": "stdout",
     "output_type": "stream",
     "text": [
      "abc abc\n",
      "Yes\n",
      "sequence subsequence\n",
      "Yes\n",
      "person compression\n",
      "Ｎo\n",
      "VERDI vivaVittorioEmanueleReDiItalia\n",
      "Ｎo\n",
      "caseDoesMatter CaseDoesMatter\n",
      "Ｎo\n"
     ]
    }
   ],
   "source": [
    "line =input().split()\n",
    "a,b = map( str,line)\n",
    "n=5\n",
    "\n",
    "while n>0:\n",
    "    n=n-1\n",
    "    if a in b:                       \n",
    "        print('Yes')\n",
    "    else:\n",
    "        print('Ｎo')\n",
    "    line =input().split()\n",
    "    a,b = map(str,line)"
   ]
  },
  {
   "cell_type": "code",
   "execution_count": null,
   "metadata": {},
   "outputs": [],
   "source": []
  }
 ],
 "metadata": {
  "kernelspec": {
   "display_name": "Python 3",
   "language": "python",
   "name": "python3"
  },
  "language_info": {
   "codemirror_mode": {
    "name": "ipython",
    "version": 3
   },
   "file_extension": ".py",
   "mimetype": "text/x-python",
   "name": "python",
   "nbconvert_exporter": "python",
   "pygments_lexer": "ipython3",
   "version": "3.7.3"
  }
 },
 "nbformat": 4,
 "nbformat_minor": 2
}
