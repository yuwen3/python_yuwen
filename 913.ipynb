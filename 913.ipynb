{
 "cells": [
  {
   "cell_type": "markdown",
   "metadata": {},
   "source": [
    "### Q913: Joana and the Odd Numbers\n",
    "Joana喜歡玩關於奇數的遊戲。有一天，她開始寫，每列都是奇數，如下表。\n",
    " 1\n",
    " 3  5  7\n",
    " 9 11 13 15 17\n",
    "19 21 23 25 27 29 31\n",
    "...\n",
    "\n",
    "在某一列Joana寫下了55個奇數數字，你可以看出該列最後3個數字的和嗎？\n",
    "給你一個數字N，代表某一列有N個奇數數字，你的任務是把該列最後三個數加起來。 \n",
    "Input\n",
    "\n",
    "輸入含有多組測試資料。\n",
    "\n",
    "每組測試資料一列，有一個數字 N，表示某一列有 N 個奇數數字（1 < N < 1000000000）。\n",
    "Output\n",
    "\n",
    "對每組測試資料，輸出該列的最後三個數字的和。本問題中保證三個數字的和一定小於263。"
   ]
  },
  {
   "cell_type": "code",
   "execution_count": null,
   "metadata": {},
   "outputs": [
    {
     "name": "stdout",
     "output_type": "stream",
     "text": [
      "3\n",
      "15\n",
      "5\n",
      "45\n",
      "7\n",
      "87\n"
     ]
    }
   ],
   "source": [
    "while True:\n",
    "    n =int(input())\n",
    "\n",
    "    for i in range((n+1)//2):\n",
    "        i =i+1\n",
    "        for k in range(i):\n",
    "            k= k+1\n",
    "            j=(2*i-2)*(i)-1+2*k\n",
    "        level =list(range(j-4*(i-1),j+1,2))\n",
    "#         print(level)\n",
    "    print(level[-1]+level[-2]+level[-3])"
   ]
  },
  {
   "cell_type": "code",
   "execution_count": null,
   "metadata": {},
   "outputs": [],
   "source": []
  }
 ],
 "metadata": {
  "kernelspec": {
   "display_name": "Python 3",
   "language": "python",
   "name": "python3"
  },
  "language_info": {
   "codemirror_mode": {
    "name": "ipython",
    "version": 3
   },
   "file_extension": ".py",
   "mimetype": "text/x-python",
   "name": "python",
   "nbconvert_exporter": "python",
   "pygments_lexer": "ipython3",
   "version": "3.7.3"
  }
 },
 "nbformat": 4,
 "nbformat_minor": 2
}
