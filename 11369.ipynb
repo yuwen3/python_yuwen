{
 "cells": [
  {
   "cell_type": "markdown",
   "metadata": {},
   "source": [
    "##     Q11369: Shopaholic\n",
    "\n",
    "林希是個購物狂。每次只要有買二送一的折扣，她就像瘋了一樣要買下店裡所有的商品。你已經放棄治療她的病了，但是想減少她的支出。\n",
    "\n",
    "\n",
    "\n",
    "你知道買二送一所送的一定是結帳商品中最便宜的那幾樣。比如說，你的朋友拿了價值為400, 350, 300, 250, 200, 150, 及 100 的七樣商品到櫃臺去結帳，她就得付 1500 元。她省下了最便宜的兩樣商品的價錢（150元及100元），也就是 250 元。如果她分三次去結帳，她可以省下更多的錢。比如說，她先拿400, 300 和 250 的去結，第一次就可以省下 250 元。第二次她只拿 150 元的去結，沒有折扣。但是第三次她拿 350, 200, 和 100 的去結，又省了 100 元，總共省下了 350 元。\n",
    "\n",
    "你的工作便是找出林希最多可以省多少錢。\n",
    "\n",
    "Input\n",
    "\n",
    "輸入的第一列含有一個整數 ，代表以下有多少筆測試資料。每筆測試有兩列，第一列是林希買的商品數 1 <= n <= 20000。下一列則是這些商品的價格 1 <= pi <= 20000。請參考 Sample Input。\n",
    "\n",
    "Output\n",
    "\n",
    "每筆測試資料輸出一列，印出如果林希適當地分次結帳時所能省下的最大金額。"
   ]
  },
  {
   "cell_type": "code",
   "execution_count": 1,
   "metadata": {},
   "outputs": [
    {
     "name": "stdout",
     "output_type": "stream",
     "text": [
      "2\n",
      "6\n",
      "400 100 200 350 300 250\n",
      "400\n",
      "3\n",
      "100 20 25\n",
      "20\n"
     ]
    }
   ],
   "source": [
    "number =int(input())\n",
    "sumn=0\n",
    "while number>0:\n",
    "    number =number-1\n",
    "    number1 =int(input())\n",
    "    data =str(input()).split()\n",
    "    data_=list(map(int,data))\n",
    "    sort_=sorted(data_, reverse =True)\n",
    "    sumn=0\n",
    "    if (len(data)==number1) and (len(data)%3==0):    \n",
    "        for i in range(2,len(sort_),3):\n",
    "            sumn =sumn+sort_[i]\n",
    "        print(sumn)\n",
    "    elif (len(data)==number1) and (len(data)%3==1):\n",
    "        for i in range(2,len(sort_),3):\n",
    "            sumn =sumn+sort_[i]\n",
    "        sumn_=sumn+sort_[len(data)-1]\n",
    "        print(sumn_)\n",
    "    elif (len(data)==number1) and (len(data)%3==2):\n",
    "        for i in range(2,len(sort_),3):\n",
    "            sumn =sumn+sort_[i]\n",
    "        sumn_=sumn+sort_[len(data)-2]+sort_[len(data)-1]\n",
    "        print(sumn_)                \n",
    "    else:\n",
    "        print(\"輸入格式有誤\")"
   ]
  },
  {
   "cell_type": "code",
   "execution_count": null,
   "metadata": {},
   "outputs": [],
   "source": []
  }
 ],
 "metadata": {
  "kernelspec": {
   "display_name": "Python 3",
   "language": "python",
   "name": "python3"
  },
  "language_info": {
   "codemirror_mode": {
    "name": "ipython",
    "version": 3
   },
   "file_extension": ".py",
   "mimetype": "text/x-python",
   "name": "python",
   "nbconvert_exporter": "python",
   "pygments_lexer": "ipython3",
   "version": "3.7.3"
  }
 },
 "nbformat": 4,
 "nbformat_minor": 2
}
