{
 "cells": [
  {
   "cell_type": "code",
   "execution_count": 1,
   "metadata": {},
   "outputs": [
    {
     "name": "stdout",
     "output_type": "stream",
     "text": [
      "126 125 124 123 122 121 120 119 118 117 116 115 114 113 112 111 110 109 108 107 106 105 104 103 102 101 100 099 098 097 096 095 094 093 092 091 090 089 088 087 086 085 084 083 082 081 080 079 078 077 076 075 074 073 072 071 070 069 068 067 066 065 064 063\n"
     ]
    }
   ],
   "source": [
    "l=[]\n",
    "for i in range(8):\n",
    "    k =[]\n",
    "    for j in range(8):\n",
    "        s =(j+1)+8*i\n",
    "        k.append(f'{bin(s)[2:]:0>7s}')\n",
    "    t=' '.join(k)\n",
    "    r = []\n",
    "    for j in range(len(t)):\n",
    "        if t[j]=='0':\n",
    "            r.append('1')\n",
    "        elif t[j]== ' ':\n",
    "            r.append(' ')\n",
    "        else:\n",
    "            r.append('0')\n",
    "    w=''.join(r)\n",
    "    k =w.split(' ')\n",
    "    b=[]\n",
    "    for a in k:\n",
    "        x ='0b'+a\n",
    "        b.append(x)\n",
    "        \n",
    "    e = []\n",
    "    for y in b:\n",
    "        z =int(y,2)\n",
    "        e.append(f'{str(z):0>3s}')\n",
    "    h=' '.join(e)\n",
    "    l.append(h)\n",
    "' '.join(l)\n",
    "print(' '.join(l))\n"
   ]
  },
  {
   "cell_type": "code",
   "execution_count": null,
   "metadata": {},
   "outputs": [],
   "source": []
  }
 ],
 "metadata": {
  "kernelspec": {
   "display_name": "Python 3",
   "language": "python",
   "name": "python3"
  },
  "language_info": {
   "codemirror_mode": {
    "name": "ipython",
    "version": 3
   },
   "file_extension": ".py",
   "mimetype": "text/x-python",
   "name": "python",
   "nbconvert_exporter": "python",
   "pygments_lexer": "ipython3",
   "version": "3.7.3"
  }
 },
 "nbformat": 4,
 "nbformat_minor": 2
}
