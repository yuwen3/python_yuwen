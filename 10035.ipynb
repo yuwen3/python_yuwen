{
 "cells": [
  {
   "cell_type": "markdown",
   "metadata": {},
   "source": [
    "### Q10035: Primary Arithmetic\n",
    "在小學時我們都做過加法的運算，就是把2個整數靠右對齊然後，由右至左一位一位相加。如果相加的結果大於等於10就有進位（carry）的情況出現。你的任務就是要判斷2個整數相加時產生了幾次進位的情況。這將幫助小學老師分析加法題目的難度。\n",
    "\n",
    "Input\n",
    "\n",
    "每一列測試資料有2個正整數，長度均小於10位。最後一列有2個0代表輸入結束。\n",
    "\n",
    "Output\n",
    "\n",
    "每列測試資料輸出該2數相加時產生多少次進位，請參考Sample Output。注意進位超過1次時operation有加s"
   ]
  },
  {
   "cell_type": "code",
   "execution_count": 1,
   "metadata": {},
   "outputs": [
    {
     "name": "stdout",
     "output_type": "stream",
     "text": [
      "123 456\n",
      "No carry operation.\n",
      "555 555\n",
      "3 carry operations.\n",
      "123 594\n",
      "1 carry operation.\n",
      "0 0\n"
     ]
    }
   ],
   "source": [
    "while True:\n",
    "    inpt =list(input().split()) \n",
    "    if inpt ==[\"0\",\"0\"]:\n",
    "        break\n",
    "    else:\n",
    "        j=0\n",
    "        for i in range(min(len(inpt[0]),len(inpt[0]))):\n",
    "            if (int(inpt[0][-i]) +int(inpt[1][-i]) >=10) or (int(inpt[0][-i]) +int(inpt[1][-i]) ==9) and (int(inpt[0][-i+1]) +int(inpt[1][-i+1]) >=10):\n",
    "                j =j+1\n",
    "            else:\n",
    "                j=0\n",
    "\n",
    "        if j==1:\n",
    "            print(\"1 carry operation.\")\n",
    "        elif j==0:\n",
    "            print(\"No carry operation.\")\n",
    "        else:\n",
    "            print(f\"{j} carry operations.\")\n"
   ]
  },
  {
   "cell_type": "code",
   "execution_count": null,
   "metadata": {},
   "outputs": [],
   "source": []
  }
 ],
 "metadata": {
  "kernelspec": {
   "display_name": "Python 3",
   "language": "python",
   "name": "python3"
  },
  "language_info": {
   "codemirror_mode": {
    "name": "ipython",
    "version": 3
   },
   "file_extension": ".py",
   "mimetype": "text/x-python",
   "name": "python",
   "nbconvert_exporter": "python",
   "pygments_lexer": "ipython3",
   "version": "3.7.3"
  }
 },
 "nbformat": 4,
 "nbformat_minor": 2
}
