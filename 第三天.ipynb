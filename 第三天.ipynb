{
 "cells": [
  {
   "cell_type": "markdown",
   "metadata": {},
   "source": [
    "## List"
   ]
  },
  {
   "cell_type": "code",
   "execution_count": 1,
   "metadata": {},
   "outputs": [
    {
     "name": "stdout",
     "output_type": "stream",
     "text": [
      "[94398.7788, 78665.649, 3146.6259600000003]\n"
     ]
    }
   ],
   "source": [
    "price= [3000, 2500, 100]\n",
    "\n",
    "c= 31.4662596\n",
    "\n",
    "price_tw= []\n",
    "\n",
    "for p in price:\n",
    "    ptw= p*c\n",
    "    price_tw.append(ptw)\n",
    "    \n",
    "print(price_tw)"
   ]
  },
  {
   "cell_type": "code",
   "execution_count": 2,
   "metadata": {},
   "outputs": [
    {
     "name": "stdout",
     "output_type": "stream",
     "text": [
      "[94398.7788]\n",
      "[94398.7788, 78665.649]\n",
      "[94398.7788, 78665.649, 3146.6259600000003]\n"
     ]
    }
   ],
   "source": [
    "price= [3000, 2500, 100]\n",
    "\n",
    "c= 31.4662596\n",
    "\n",
    "price_tw= []\n",
    "\n",
    "for p in price:\n",
    "    ptw= p*c\n",
    "    price_tw.append(ptw)\n",
    "    print(price_tw)"
   ]
  },
  {
   "cell_type": "markdown",
   "metadata": {},
   "source": [
    "### string清理"
   ]
  },
  {
   "cell_type": "code",
   "execution_count": 3,
   "metadata": {},
   "outputs": [],
   "source": [
    "st= '23,68,99'"
   ]
  },
  {
   "cell_type": "code",
   "execution_count": 5,
   "metadata": {},
   "outputs": [
    {
     "data": {
      "text/plain": [
       "['23', '68', '99']"
      ]
     },
     "execution_count": 5,
     "metadata": {},
     "output_type": "execute_result"
    }
   ],
   "source": [
    "st.split(',')"
   ]
  },
  {
   "cell_type": "markdown",
   "metadata": {},
   "source": [
    "### 問題：\n",
    "\n",
    "'23,68,99'->[23,68,99]"
   ]
  },
  {
   "cell_type": "code",
   "execution_count": 9,
   "metadata": {},
   "outputs": [
    {
     "name": "stdout",
     "output_type": "stream",
     "text": [
      "[23, 68, 99]\n"
     ]
    }
   ],
   "source": [
    "st='23,68,99'\n",
    "p= st.split(',')\n",
    "t= []\n",
    "\n",
    "for s in p:\n",
    "    t.append(int(s))\n",
    "print(t)"
   ]
  },
  {
   "cell_type": "code",
   "execution_count": 11,
   "metadata": {},
   "outputs": [
    {
     "name": "stdout",
     "output_type": "stream",
     "text": [
      "[23, 68, 99]\n"
     ]
    }
   ],
   "source": [
    "st='23,68,99'\n",
    "s1= st.split(',')\n",
    "s2= []\n",
    "\n",
    "for n in s1:\n",
    "    k= int(n)\n",
    "    s2.append(k)\n",
    "print(s2)"
   ]
  },
  {
   "cell_type": "markdown",
   "metadata": {},
   "source": [
    "### 問題：\n",
    "\n",
    "求[23,68,99]\n"
   ]
  },
  {
   "cell_type": "code",
   "execution_count": 15,
   "metadata": {},
   "outputs": [
    {
     "name": "stdout",
     "output_type": "stream",
     "text": [
      "總合為 190\n"
     ]
    }
   ],
   "source": [
    "s=0\n",
    "\n",
    "for n in s2:\n",
    "    s=s+n\n",
    "print('總合為',s)"
   ]
  },
  {
   "cell_type": "code",
   "execution_count": 16,
   "metadata": {},
   "outputs": [
    {
     "data": {
      "text/plain": [
       "190"
      ]
     },
     "execution_count": 16,
     "metadata": {},
     "output_type": "execute_result"
    }
   ],
   "source": [
    "sum(s2)"
   ]
  },
  {
   "cell_type": "code",
   "execution_count": 18,
   "metadata": {},
   "outputs": [
    {
     "data": {
      "text/plain": [
       "['23', '68', '99']"
      ]
     },
     "execution_count": 18,
     "metadata": {},
     "output_type": "execute_result"
    }
   ],
   "source": [
    "s1"
   ]
  },
  {
   "cell_type": "code",
   "execution_count": 20,
   "metadata": {},
   "outputs": [
    {
     "data": {
      "text/plain": [
       "'23'"
      ]
     },
     "execution_count": 20,
     "metadata": {},
     "output_type": "execute_result"
    }
   ],
   "source": [
    "s1[0]"
   ]
  },
  {
   "cell_type": "code",
   "execution_count": 21,
   "metadata": {},
   "outputs": [
    {
     "data": {
      "text/plain": [
       "3"
      ]
     },
     "execution_count": 21,
     "metadata": {},
     "output_type": "execute_result"
    }
   ],
   "source": [
    "len(s1)"
   ]
  },
  {
   "cell_type": "code",
   "execution_count": 32,
   "metadata": {},
   "outputs": [],
   "source": [
    "s1=list('ABCD')"
   ]
  },
  {
   "cell_type": "code",
   "execution_count": 34,
   "metadata": {},
   "outputs": [
    {
     "data": {
      "text/plain": [
       "['A', 'B', 'C', 'D']"
      ]
     },
     "execution_count": 34,
     "metadata": {},
     "output_type": "execute_result"
    }
   ],
   "source": [
    "s1"
   ]
  },
  {
   "cell_type": "code",
   "execution_count": 51,
   "metadata": {},
   "outputs": [
    {
     "name": "stdout",
     "output_type": "stream",
     "text": [
      "['D', 'C', 'B', 'A']\n"
     ]
    }
   ],
   "source": [
    "n=len(s1)\n",
    "s2=[]\n",
    "\n",
    "for i in range(1,n+1):\n",
    "    s2.append(s1[-i])\n",
    "print(s2)"
   ]
  },
  {
   "cell_type": "code",
   "execution_count": 56,
   "metadata": {},
   "outputs": [
    {
     "name": "stdout",
     "output_type": "stream",
     "text": [
      "DCBA\n"
     ]
    }
   ],
   "source": [
    "s1='ABCD'\n",
    "s2=''\n",
    "\n",
    "n=len(s1)\n",
    "\n",
    "for i in range(1,n+1):\n",
    "    s2=s2+s1[-i]\n",
    "print(s2)"
   ]
  },
  {
   "cell_type": "code",
   "execution_count": 43,
   "metadata": {},
   "outputs": [
    {
     "data": {
      "text/plain": [
       "'DCBA'"
      ]
     },
     "execution_count": 43,
     "metadata": {},
     "output_type": "execute_result"
    }
   ],
   "source": [
    "s1[::-1]"
   ]
  },
  {
   "cell_type": "code",
   "execution_count": 44,
   "metadata": {},
   "outputs": [],
   "source": [
    "L=list (s1)"
   ]
  },
  {
   "cell_type": "code",
   "execution_count": 46,
   "metadata": {},
   "outputs": [
    {
     "data": {
      "text/plain": [
       "['A', 'B', 'C', 'D']"
      ]
     },
     "execution_count": 46,
     "metadata": {},
     "output_type": "execute_result"
    }
   ],
   "source": [
    "L"
   ]
  },
  {
   "cell_type": "code",
   "execution_count": 47,
   "metadata": {},
   "outputs": [
    {
     "data": {
      "text/plain": [
       "['D', 'C', 'B', 'A']"
      ]
     },
     "execution_count": 47,
     "metadata": {},
     "output_type": "execute_result"
    }
   ],
   "source": [
    "L[::-1]"
   ]
  },
  {
   "cell_type": "code",
   "execution_count": 57,
   "metadata": {},
   "outputs": [
    {
     "name": "stdout",
     "output_type": "stream",
     "text": [
      "DCBA\n"
     ]
    }
   ],
   "source": [
    "s1='ABCD'\n",
    "s2=''\n",
    "\n",
    "n=len(s1)\n",
    "\n",
    "for i in range(1,n+1):\n",
    "    s2=s2+s1[n-i]\n",
    "print(s2)"
   ]
  },
  {
   "cell_type": "markdown",
   "metadata": {},
   "source": [
    "# Python的函式寫法"
   ]
  },
  {
   "cell_type": "code",
   "execution_count": 58,
   "metadata": {},
   "outputs": [],
   "source": [
    "def square(x):\n",
    "    return(x**2)"
   ]
  },
  {
   "cell_type": "code",
   "execution_count": 61,
   "metadata": {},
   "outputs": [
    {
     "data": {
      "text/plain": [
       "225"
      ]
     },
     "execution_count": 61,
     "metadata": {},
     "output_type": "execute_result"
    }
   ],
   "source": [
    "square(15)"
   ]
  },
  {
   "cell_type": "code",
   "execution_count": 62,
   "metadata": {},
   "outputs": [],
   "source": [
    "a=square(14)"
   ]
  },
  {
   "cell_type": "code",
   "execution_count": 63,
   "metadata": {},
   "outputs": [
    {
     "data": {
      "text/plain": [
       "196"
      ]
     },
     "execution_count": 63,
     "metadata": {},
     "output_type": "execute_result"
    }
   ],
   "source": [
    "a"
   ]
  },
  {
   "cell_type": "code",
   "execution_count": 64,
   "metadata": {},
   "outputs": [],
   "source": [
    "def reverse(s):\n",
    "    return s[::-1]"
   ]
  },
  {
   "cell_type": "code",
   "execution_count": 65,
   "metadata": {},
   "outputs": [
    {
     "data": {
      "text/plain": [
       "'hgfedcba'"
      ]
     },
     "execution_count": 65,
     "metadata": {},
     "output_type": "execute_result"
    }
   ],
   "source": [
    "reverse('abcdefgh')"
   ]
  },
  {
   "cell_type": "code",
   "execution_count": 66,
   "metadata": {},
   "outputs": [
    {
     "data": {
      "text/plain": [
       "['d', 'c', 'b', 'a']"
      ]
     },
     "execution_count": 66,
     "metadata": {},
     "output_type": "execute_result"
    }
   ],
   "source": [
    "reverse(['a','b','c','d'])"
   ]
  },
  {
   "cell_type": "code",
   "execution_count": 1,
   "metadata": {},
   "outputs": [],
   "source": [
    "from random import randint"
   ]
  },
  {
   "cell_type": "code",
   "execution_count": 2,
   "metadata": {},
   "outputs": [
    {
     "name": "stdout",
     "output_type": "stream",
     "text": [
      "2\n",
      "5\n",
      "8\n",
      "2\n",
      "10\n",
      "4\n",
      "2\n",
      "4\n",
      "7\n",
      "5\n",
      "7\n",
      "4\n",
      "8\n",
      "10\n",
      "7\n",
      "7\n",
      "3\n",
      "6\n",
      "1\n",
      "7\n",
      "10\n",
      "9\n",
      "4\n",
      "2\n",
      "10\n",
      "1\n",
      "9\n",
      "9\n",
      "4\n",
      "10\n",
      "9\n",
      "7\n",
      "2\n",
      "8\n",
      "2\n",
      "8\n",
      "1\n",
      "4\n",
      "7\n",
      "2\n",
      "4\n",
      "5\n",
      "10\n",
      "2\n",
      "6\n",
      "5\n",
      "9\n",
      "5\n",
      "6\n",
      "7\n",
      "4\n",
      "5\n",
      "5\n",
      "2\n",
      "9\n",
      "4\n",
      "5\n",
      "3\n",
      "9\n",
      "3\n",
      "3\n",
      "5\n",
      "4\n",
      "6\n",
      "2\n",
      "1\n",
      "9\n",
      "5\n",
      "10\n",
      "3\n",
      "7\n",
      "5\n",
      "7\n",
      "4\n",
      "3\n",
      "4\n",
      "1\n",
      "2\n",
      "3\n",
      "9\n",
      "8\n",
      "7\n",
      "1\n",
      "6\n",
      "5\n",
      "5\n",
      "5\n",
      "8\n",
      "2\n",
      "1\n",
      "4\n",
      "6\n",
      "5\n",
      "3\n",
      "1\n",
      "3\n",
      "4\n",
      "9\n",
      "4\n",
      "5\n"
     ]
    }
   ],
   "source": [
    "for i in range(100):\n",
    "    print(randint(1,10))"
   ]
  },
  {
   "cell_type": "markdown",
   "metadata": {},
   "source": [
    "# 寫一個猜數字遊戲"
   ]
  },
  {
   "cell_type": "code",
   "execution_count": 3,
   "metadata": {},
   "outputs": [],
   "source": [
    "def game():\n",
    "    s= randint(1,1000)\n",
    "    i=-1\n",
    "    while i!=s:\n",
    "\n",
    "        i=int(input('請猜一個1~1000間的數字：'))\n",
    "        if i>s:\n",
    "            print('太大了，找小一點喔~')\n",
    "        elif i==s:\n",
    "            print('恭喜你~~答對了！')\n",
    "        else:\n",
    "            print('太小啦，再找大一點吧')"
   ]
  },
  {
   "cell_type": "code",
   "execution_count": 4,
   "metadata": {},
   "outputs": [
    {
     "name": "stdout",
     "output_type": "stream",
     "text": [
      "請猜一個1~1000間的數字：\n"
     ]
    },
    {
     "data": {
      "text/plain": [
       "''"
      ]
     },
     "execution_count": 4,
     "metadata": {},
     "output_type": "execute_result"
    }
   ],
   "source": [
    "i= (input('請猜一個1~1000間的數字：'))\n",
    "i"
   ]
  },
  {
   "cell_type": "code",
   "execution_count": 6,
   "metadata": {},
   "outputs": [
    {
     "name": "stdout",
     "output_type": "stream",
     "text": [
      "請猜一個1~1000間的數字：345\n",
      "恭喜你~~答對了！\n"
     ]
    }
   ],
   "source": [
    "game()"
   ]
  },
  {
   "cell_type": "code",
   "execution_count": 7,
   "metadata": {},
   "outputs": [
    {
     "name": "stdout",
     "output_type": "stream",
     "text": [
      "請猜一個1~1000間的數字：456\n",
      "太大了，找小一點喔~\n",
      "請猜一個1~1000間的數字：123\n",
      "太小啦，再找大一點吧\n",
      "請猜一個1~1000間的數字：412\n",
      "太大了，找小一點喔~\n",
      "請猜一個1~1000間的數字：365\n",
      "太大了，找小一點喔~\n",
      "請猜一個1~1000間的數字：412\n",
      "太大了，找小一點喔~\n",
      "請猜一個1~1000間的數字：350\n",
      "太大了，找小一點喔~\n",
      "請猜一個1~1000間的數字：300\n",
      "太大了，找小一點喔~\n",
      "請猜一個1~1000間的數字：200\n",
      "太大了，找小一點喔~\n",
      "請猜一個1~1000間的數字：169\n",
      "太大了，找小一點喔~\n",
      "請猜一個1~1000間的數字：150\n",
      "太大了，找小一點喔~\n",
      "請猜一個1~1000間的數字：140\n",
      "太大了，找小一點喔~\n",
      "請猜一個1~1000間的數字：130\n",
      "太大了，找小一點喔~\n",
      "請猜一個1~1000間的數字：127\n",
      "恭喜你~~答對了！\n",
      "--------------\n",
      "再玩一次？no\n"
     ]
    }
   ],
   "source": [
    "play=True\n",
    "while play:\n",
    "    game()\n",
    "    print('--------------')\n",
    "    again=input('再玩一次？')\n",
    "    if again=='no':\n",
    "        play=False"
   ]
  },
  {
   "cell_type": "code",
   "execution_count": 8,
   "metadata": {},
   "outputs": [
    {
     "name": "stdout",
     "output_type": "stream",
     "text": [
      "The following commands were written to file `game.py`:\n",
      "from random import randint\n",
      "def game():\n",
      "    s= randint(1,1000)\n",
      "    i=-1\n",
      "    while i!=s:\n",
      "\n",
      "        i=int(input('請猜一個1~1000間的數字：'))\n",
      "        if i>s:\n",
      "            print('太大了，找小一點喔~')\n",
      "        elif i==s:\n",
      "            print('恭喜你~~答對了！')\n",
      "        else:\n",
      "            print('太小啦，再找大一點吧')\n",
      "play=True\n",
      "while play:\n",
      "    game()\n",
      "    print('--------------')\n",
      "    again=input('再玩一次？')\n",
      "    if again=='no':\n",
      "        play=False\n"
     ]
    }
   ],
   "source": [
    "%save \"game.py\"1 3 7"
   ]
  },
  {
   "cell_type": "code",
   "execution_count": null,
   "metadata": {},
   "outputs": [],
   "source": []
  }
 ],
 "metadata": {
  "kernelspec": {
   "display_name": "Python 3",
   "language": "python",
   "name": "python3"
  },
  "language_info": {
   "codemirror_mode": {
    "name": "ipython",
    "version": 3
   },
   "file_extension": ".py",
   "mimetype": "text/x-python",
   "name": "python",
   "nbconvert_exporter": "python",
   "pygments_lexer": "ipython3",
   "version": "3.7.3"
  }
 },
 "nbformat": 4,
 "nbformat_minor": 2
}
